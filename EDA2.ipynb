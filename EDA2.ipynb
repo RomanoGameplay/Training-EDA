{
 "cells":[
  {
   "cell_type":"markdown",
   "source":[
    "# Chicken"
   ],
   "attachments":{
    
   },
   "metadata":{
    "datalore":{
     "node_id":"Chicken",
     "type":"MD",
     "hide_input_from_viewers":false,
     "hide_output_from_viewers":false,
     "sheet_delimiter":true
    }
   }
  },
  {
   "cell_type":"code",
   "source":[
    "import pandas as pd\n",
    "import seaborn as sns\n",
    "\n",
    "%matplotlib inline"
   ],
   "execution_count":1,
   "outputs":[
    
   ],
   "metadata":{
    "datalore":{
     "node_id":"2rS54mDhdzD8DG37V1TdvV",
     "type":"CODE",
     "hide_input_from_viewers":true,
     "hide_output_from_viewers":true
    }
   }
  },
  {
   "cell_type":"code",
   "source":[
    "data = pd.read_csv('chicken.csv', engine='c')\n",
    "df = data.copy()\n",
    "df.shape"
   ],
   "execution_count":2,
   "outputs":[
    {
     "data":{
      "text\/plain":[
       "(71, 2)"
      ]
     },
     "metadata":{
      
     },
     "output_type":"display_data"
    }
   ],
   "metadata":{
    "datalore":{
     "node_id":"Qbpb81yWIe00kxmYXo7XEM",
     "type":"CODE",
     "hide_input_from_viewers":true,
     "hide_output_from_viewers":true
    }
   }
  },
  {
   "cell_type":"code",
   "source":[
    "df"
   ],
   "execution_count":3,
   "outputs":[
    {
     "data":{
      "text\/html":[
       "<div>\n",
       "<style scoped>\n",
       "    .dataframe tbody tr th:only-of-type {\n",
       "        vertical-align: middle;\n",
       "    }\n",
       "\n",
       "    .dataframe tbody tr th {\n",
       "        vertical-align: top;\n",
       "    }\n",
       "\n",
       "    .dataframe thead th {\n",
       "        text-align: right;\n",
       "    }\n",
       "<\/style>\n",
       "<table border=\"1\" class=\"dataframe\">\n",
       "  <thead>\n",
       "    <tr style=\"text-align: right;\">\n",
       "      <th><\/th>\n",
       "      <th>weight<\/th>\n",
       "      <th>feed<\/th>\n",
       "    <\/tr>\n",
       "  <\/thead>\n",
       "  <tbody>\n",
       "    <tr>\n",
       "      <th>0<\/th>\n",
       "      <td>179<\/td>\n",
       "      <td>horsebean<\/td>\n",
       "    <\/tr>\n",
       "    <tr>\n",
       "      <th>1<\/th>\n",
       "      <td>160<\/td>\n",
       "      <td>horsebean<\/td>\n",
       "    <\/tr>\n",
       "    <tr>\n",
       "      <th>2<\/th>\n",
       "      <td>136<\/td>\n",
       "      <td>horsebean<\/td>\n",
       "    <\/tr>\n",
       "    <tr>\n",
       "      <th>3<\/th>\n",
       "      <td>227<\/td>\n",
       "      <td>horsebean<\/td>\n",
       "    <\/tr>\n",
       "    <tr>\n",
       "      <th>4<\/th>\n",
       "      <td>217<\/td>\n",
       "      <td>horsebean<\/td>\n",
       "    <\/tr>\n",
       "    <tr>\n",
       "      <th>...<\/th>\n",
       "      <td>...<\/td>\n",
       "      <td>...<\/td>\n",
       "    <\/tr>\n",
       "    <tr>\n",
       "      <th>66<\/th>\n",
       "      <td>359<\/td>\n",
       "      <td>casein<\/td>\n",
       "    <\/tr>\n",
       "    <tr>\n",
       "      <th>67<\/th>\n",
       "      <td>216<\/td>\n",
       "      <td>casein<\/td>\n",
       "    <\/tr>\n",
       "    <tr>\n",
       "      <th>68<\/th>\n",
       "      <td>222<\/td>\n",
       "      <td>casein<\/td>\n",
       "    <\/tr>\n",
       "    <tr>\n",
       "      <th>69<\/th>\n",
       "      <td>283<\/td>\n",
       "      <td>casein<\/td>\n",
       "    <\/tr>\n",
       "    <tr>\n",
       "      <th>70<\/th>\n",
       "      <td>332<\/td>\n",
       "      <td>casein<\/td>\n",
       "    <\/tr>\n",
       "  <\/tbody>\n",
       "<\/table>\n",
       "<p>71 rows × 2 columns<\/p>\n",
       "<\/div>"
      ]
     },
     "metadata":{
      
     },
     "output_type":"display_data"
    }
   ],
   "metadata":{
    "datalore":{
     "node_id":"UTCJ0qY5CQcEoiw0CtS7fG",
     "type":"CODE",
     "hide_input_from_viewers":true,
     "hide_output_from_viewers":true
    }
   }
  },
  {
   "cell_type":"code",
   "source":[
    "sns.barplot(data=df, x='weight', y='feed', orientation='horizontal')"
   ],
   "execution_count":4,
   "outputs":[
    {
     "data":{
      "text\/plain":[
       "<AxesSubplot:xlabel='weight', ylabel='feed'>"
      ]
     },
     "metadata":{
      
     },
     "output_type":"display_data"
    },
    {
     "data":{
      "image\/png":"[encoded data removed]"
     },
     "metadata":{
      "image\/png":{
       
      }
     },
     "output_type":"display_data"
    }
   ],
   "metadata":{
    "datalore":{
     "node_id":"jA8Sj2jYFN4d5VC8WNxjs8",
     "type":"CODE",
     "hide_input_from_viewers":true,
     "hide_output_from_viewers":true
    }
   }
  },
  {
   "cell_type":"code",
   "source":[
    "df['feed'].value_counts()"
   ],
   "execution_count":5,
   "outputs":[
    {
     "data":{
      "text\/html":[
       
      ]
     },
     "metadata":{
      
     },
     "output_type":"display_data"
    }
   ],
   "metadata":{
    "datalore":{
     "node_id":"R3MMhuannv8ZR1JN2DvGQM",
     "type":"CODE",
     "hide_input_from_viewers":true,
     "hide_output_from_viewers":true
    }
   }
  },
  {
   "cell_type":"code",
   "source":[
    "sns.countplot(df['feed'])"
   ],
   "execution_count":6,
   "outputs":[
    {
     "name":"stderr",
     "text":[
      "\/opt\/python\/envs\/default\/lib\/python3.8\/site-packages\/seaborn\/_decorators.py:36: FutureWarning: Pass the following variable as a keyword arg: x. From version 0.12, the only valid positional argument will be `data`, and passing other arguments without an explicit keyword will result in an error or misinterpretation.\n",
      "  warnings.warn(\n"
     ],
     "output_type":"stream"
    },
    {
     "data":{
      "text\/plain":[
       "<AxesSubplot:xlabel='feed', ylabel='count'>"
      ]
     },
     "metadata":{
      
     },
     "output_type":"display_data"
    },
    {
     "data":{
      "image\/png":"[encoded data removed]"
     },
     "metadata":{
      "image\/png":{
       
      }
     },
     "output_type":"display_data"
    }
   ],
   "metadata":{
    "datalore":{
     "node_id":"TrggpmZ8JvYf20UOyp9pBN",
     "type":"CODE",
     "hide_input_from_viewers":true,
     "hide_output_from_viewers":true
    }
   }
  },
  {
   "cell_type":"code",
   "source":[
    "sns.histplot(data=df, y='feed', kde=True, shrink=0.8)"
   ],
   "execution_count":7,
   "outputs":[
    {
     "data":{
      "text\/plain":[
       "<AxesSubplot:xlabel='Count', ylabel='feed'>"
      ]
     },
     "metadata":{
      
     },
     "output_type":"display_data"
    },
    {
     "data":{
      "image\/png":"[encoded data removed]"
     },
     "metadata":{
      "image\/png":{
       
      }
     },
     "output_type":"display_data"
    }
   ],
   "metadata":{
    "datalore":{
     "node_id":"Q2M5mSnZoE9xF1u2ssD89b",
     "type":"CODE",
     "hide_input_from_viewers":true,
     "hide_output_from_viewers":true
    }
   }
  },
  {
   "cell_type":"code",
   "source":[
    "sns.set_theme(style='whitegrid')\n",
    "sns.histplot(data=df, y='feed', kde=True, shrink=0.8, stat='density')"
   ],
   "execution_count":8,
   "outputs":[
    {
     "data":{
      "text\/plain":[
       "<AxesSubplot:xlabel='Density', ylabel='feed'>"
      ]
     },
     "metadata":{
      
     },
     "output_type":"display_data"
    },
    {
     "data":{
      "image\/png":"[encoded data removed]"
     },
     "metadata":{
      "image\/png":{
       
      }
     },
     "output_type":"display_data"
    }
   ],
   "metadata":{
    "datalore":{
     "node_id":"APrfCuO8WfJR1WvGlACBhA",
     "type":"CODE",
     "hide_input_from_viewers":true,
     "hide_output_from_viewers":true
    }
   }
  },
  {
   "cell_type":"code",
   "source":[
    "agrupado = df.groupby('feed')['weight'].sum()"
   ],
   "execution_count":9,
   "outputs":[
    
   ],
   "metadata":{
    "datalore":{
     "node_id":"YuGJwpE6IrA0AfvQhxP2lP",
     "type":"CODE",
     "hide_input_from_viewers":true,
     "hide_output_from_viewers":true
    }
   }
  },
  {
   "cell_type":"code",
   "source":[
    "sns.histplot(data=df, x='weight', shrink=0.8, stat='density')"
   ],
   "execution_count":10,
   "outputs":[
    {
     "data":{
      "text\/plain":[
       "<AxesSubplot:xlabel='weight', ylabel='Density'>"
      ]
     },
     "metadata":{
      
     },
     "output_type":"display_data"
    },
    {
     "data":{
      "image\/png":"[encoded data removed]"
     },
     "metadata":{
      "image\/png":{
       
      }
     },
     "output_type":"display_data"
    }
   ],
   "metadata":{
    "datalore":{
     "node_id":"4WHCZ92QaNHT14VSezkjfh",
     "type":"CODE",
     "hide_input_from_viewers":true,
     "hide_output_from_viewers":true
    }
   }
  },
  {
   "cell_type":"markdown",
   "source":[
    "Tarefa: Qual semente é a melhor na hora de alimentar as galinhas?\n",
    "\n",
    "Resposta possível: As sementes do tipo sunflower e casein apresentam ótimos indicativos de acúmulo de peso total, fato bem visível no gráfico. Apesar de haver mais sementes soybean que sunflower e casein, a primeira é inferior quando se trata no acúmulo total de peso. Enquanto que, tanto a sunflower quanto a casein conseguiram superar a soybean na questão do número de peso acumulado.\n",
    "Entretanto, o mais aconselhável seria comprar sementes do tipo sunflower, pois o acúmulo total de peso é maior que casein e sua margem de erro é menor que a mesma. Portanto, devemos investir na semente casein."
   ],
   "attachments":{
    
   },
   "metadata":{
    "datalore":{
     "node_id":"OiZn7lQEO8KnR6UZ2RBKYM",
     "type":"MD",
     "hide_input_from_viewers":true,
     "hide_output_from_viewers":true
    }
   }
  },
  {
   "cell_type":"code",
   "source":[
    
   ],
   "execution_count":null,
   "outputs":[
    
   ],
   "metadata":{
    "datalore":{
     "node_id":"jqPsgieCsParCr6PW1fih4",
     "type":"CODE",
     "hide_input_from_viewers":true,
     "hide_output_from_viewers":true
    }
   }
  },
  {
   "cell_type":"markdown",
   "source":[
    "# CO2"
   ],
   "attachments":{
    
   },
   "metadata":{
    "datalore":{
     "node_id":"CO2",
     "type":"MD",
     "hide_input_from_viewers":false,
     "hide_output_from_viewers":false,
     "sheet_delimiter":true
    }
   }
  },
  {
   "cell_type":"code",
   "source":[
    "data = pd.read_csv('co2.csv', engine='c')\n",
    "df = data.copy()\n",
    "df.shape"
   ],
   "execution_count":11,
   "outputs":[
    {
     "data":{
      "text\/plain":[
       "(84, 5)"
      ]
     },
     "metadata":{
      
     },
     "output_type":"display_data"
    }
   ],
   "metadata":{
    "datalore":{
     "node_id":"1ceuhHmUVLCr8fdVMfUd8k",
     "type":"CODE",
     "hide_input_from_viewers":true,
     "hide_output_from_viewers":true
    }
   }
  },
  {
   "cell_type":"code",
   "source":[
    "df"
   ],
   "execution_count":12,
   "outputs":[
    {
     "data":{
      "text\/html":[
       "<div>\n",
       "<style scoped>\n",
       "    .dataframe tbody tr th:only-of-type {\n",
       "        vertical-align: middle;\n",
       "    }\n",
       "\n",
       "    .dataframe tbody tr th {\n",
       "        vertical-align: top;\n",
       "    }\n",
       "\n",
       "    .dataframe thead th {\n",
       "        text-align: right;\n",
       "    }\n",
       "<\/style>\n",
       "<table border=\"1\" class=\"dataframe\">\n",
       "  <thead>\n",
       "    <tr style=\"text-align: right;\">\n",
       "      <th><\/th>\n",
       "      <th>Plant<\/th>\n",
       "      <th>Type<\/th>\n",
       "      <th>Treatment<\/th>\n",
       "      <th>conc<\/th>\n",
       "      <th>uptake<\/th>\n",
       "    <\/tr>\n",
       "  <\/thead>\n",
       "  <tbody>\n",
       "    <tr>\n",
       "      <th>0<\/th>\n",
       "      <td>Qn1<\/td>\n",
       "      <td>Quebec<\/td>\n",
       "      <td>nonchilled<\/td>\n",
       "      <td>95<\/td>\n",
       "      <td>16.0<\/td>\n",
       "    <\/tr>\n",
       "    <tr>\n",
       "      <th>1<\/th>\n",
       "      <td>Qn1<\/td>\n",
       "      <td>Quebec<\/td>\n",
       "      <td>nonchilled<\/td>\n",
       "      <td>175<\/td>\n",
       "      <td>30.4<\/td>\n",
       "    <\/tr>\n",
       "    <tr>\n",
       "      <th>2<\/th>\n",
       "      <td>Qn1<\/td>\n",
       "      <td>Quebec<\/td>\n",
       "      <td>nonchilled<\/td>\n",
       "      <td>250<\/td>\n",
       "      <td>34.8<\/td>\n",
       "    <\/tr>\n",
       "    <tr>\n",
       "      <th>3<\/th>\n",
       "      <td>Qn1<\/td>\n",
       "      <td>Quebec<\/td>\n",
       "      <td>nonchilled<\/td>\n",
       "      <td>350<\/td>\n",
       "      <td>37.2<\/td>\n",
       "    <\/tr>\n",
       "    <tr>\n",
       "      <th>4<\/th>\n",
       "      <td>Qn1<\/td>\n",
       "      <td>Quebec<\/td>\n",
       "      <td>nonchilled<\/td>\n",
       "      <td>500<\/td>\n",
       "      <td>35.3<\/td>\n",
       "    <\/tr>\n",
       "    <tr>\n",
       "      <th>...<\/th>\n",
       "      <td>...<\/td>\n",
       "      <td>...<\/td>\n",
       "      <td>...<\/td>\n",
       "      <td>...<\/td>\n",
       "      <td>...<\/td>\n",
       "    <\/tr>\n",
       "    <tr>\n",
       "      <th>79<\/th>\n",
       "      <td>Mc3<\/td>\n",
       "      <td>Mississippi<\/td>\n",
       "      <td>chilled<\/td>\n",
       "      <td>250<\/td>\n",
       "      <td>17.9<\/td>\n",
       "    <\/tr>\n",
       "    <tr>\n",
       "      <th>80<\/th>\n",
       "      <td>Mc3<\/td>\n",
       "      <td>Mississippi<\/td>\n",
       "      <td>chilled<\/td>\n",
       "      <td>350<\/td>\n",
       "      <td>17.9<\/td>\n",
       "    <\/tr>\n",
       "    <tr>\n",
       "      <th>81<\/th>\n",
       "      <td>Mc3<\/td>\n",
       "      <td>Mississippi<\/td>\n",
       "      <td>chilled<\/td>\n",
       "      <td>500<\/td>\n",
       "      <td>17.9<\/td>\n",
       "    <\/tr>\n",
       "    <tr>\n",
       "      <th>82<\/th>\n",
       "      <td>Mc3<\/td>\n",
       "      <td>Mississippi<\/td>\n",
       "      <td>chilled<\/td>\n",
       "      <td>675<\/td>\n",
       "      <td>18.9<\/td>\n",
       "    <\/tr>\n",
       "    <tr>\n",
       "      <th>83<\/th>\n",
       "      <td>Mc3<\/td>\n",
       "      <td>Mississippi<\/td>\n",
       "      <td>chilled<\/td>\n",
       "      <td>1000<\/td>\n",
       "      <td>19.9<\/td>\n",
       "    <\/tr>\n",
       "  <\/tbody>\n",
       "<\/table>\n",
       "<p>84 rows × 5 columns<\/p>\n",
       "<\/div>"
      ]
     },
     "metadata":{
      
     },
     "output_type":"display_data"
    }
   ],
   "metadata":{
    "datalore":{
     "node_id":"Pxm1E12QYQVDTVwCfzzDk2",
     "type":"CODE",
     "hide_input_from_viewers":true,
     "hide_output_from_viewers":true
    }
   }
  },
  {
   "cell_type":"code",
   "source":[
    "mis = df.loc[df['Plant'].str.contains(\"Mc|Mn\", case=False)]\n",
    "mis_agr_conc = mis.groupby(['Plant', 'Treatment'])['conc'].sum()\n",
    "mis_agr_upt = mis.groupby(['Plant', 'Treatment'])['uptake'].sum()\n",
    "mis"
   ],
   "execution_count":13,
   "outputs":[
    {
     "data":{
      "text\/html":[
       "<div>\n",
       "<style scoped>\n",
       "    .dataframe tbody tr th:only-of-type {\n",
       "        vertical-align: middle;\n",
       "    }\n",
       "\n",
       "    .dataframe tbody tr th {\n",
       "        vertical-align: top;\n",
       "    }\n",
       "\n",
       "    .dataframe thead th {\n",
       "        text-align: right;\n",
       "    }\n",
       "<\/style>\n",
       "<table border=\"1\" class=\"dataframe\">\n",
       "  <thead>\n",
       "    <tr style=\"text-align: right;\">\n",
       "      <th><\/th>\n",
       "      <th>Plant<\/th>\n",
       "      <th>Type<\/th>\n",
       "      <th>Treatment<\/th>\n",
       "      <th>conc<\/th>\n",
       "      <th>uptake<\/th>\n",
       "    <\/tr>\n",
       "  <\/thead>\n",
       "  <tbody>\n",
       "    <tr>\n",
       "      <th>42<\/th>\n",
       "      <td>Mn1<\/td>\n",
       "      <td>Mississippi<\/td>\n",
       "      <td>nonchilled<\/td>\n",
       "      <td>95<\/td>\n",
       "      <td>10.6<\/td>\n",
       "    <\/tr>\n",
       "    <tr>\n",
       "      <th>43<\/th>\n",
       "      <td>Mn1<\/td>\n",
       "      <td>Mississippi<\/td>\n",
       "      <td>nonchilled<\/td>\n",
       "      <td>175<\/td>\n",
       "      <td>19.2<\/td>\n",
       "    <\/tr>\n",
       "    <tr>\n",
       "      <th>44<\/th>\n",
       "      <td>Mn1<\/td>\n",
       "      <td>Mississippi<\/td>\n",
       "      <td>nonchilled<\/td>\n",
       "      <td>250<\/td>\n",
       "      <td>26.2<\/td>\n",
       "    <\/tr>\n",
       "    <tr>\n",
       "      <th>45<\/th>\n",
       "      <td>Mn1<\/td>\n",
       "      <td>Mississippi<\/td>\n",
       "      <td>nonchilled<\/td>\n",
       "      <td>350<\/td>\n",
       "      <td>30.0<\/td>\n",
       "    <\/tr>\n",
       "    <tr>\n",
       "      <th>46<\/th>\n",
       "      <td>Mn1<\/td>\n",
       "      <td>Mississippi<\/td>\n",
       "      <td>nonchilled<\/td>\n",
       "      <td>500<\/td>\n",
       "      <td>30.9<\/td>\n",
       "    <\/tr>\n",
       "    <tr>\n",
       "      <th>47<\/th>\n",
       "      <td>Mn1<\/td>\n",
       "      <td>Mississippi<\/td>\n",
       "      <td>nonchilled<\/td>\n",
       "      <td>675<\/td>\n",
       "      <td>32.4<\/td>\n",
       "    <\/tr>\n",
       "    <tr>\n",
       "      <th>48<\/th>\n",
       "      <td>Mn1<\/td>\n",
       "      <td>Mississippi<\/td>\n",
       "      <td>nonchilled<\/td>\n",
       "      <td>1000<\/td>\n",
       "      <td>35.5<\/td>\n",
       "    <\/tr>\n",
       "    <tr>\n",
       "      <th>49<\/th>\n",
       "      <td>Mn2<\/td>\n",
       "      <td>Mississippi<\/td>\n",
       "      <td>nonchilled<\/td>\n",
       "      <td>95<\/td>\n",
       "      <td>12.0<\/td>\n",
       "    <\/tr>\n",
       "    <tr>\n",
       "      <th>50<\/th>\n",
       "      <td>Mn2<\/td>\n",
       "      <td>Mississippi<\/td>\n",
       "      <td>nonchilled<\/td>\n",
       "      <td>175<\/td>\n",
       "      <td>22.0<\/td>\n",
       "    <\/tr>\n",
       "    <tr>\n",
       "      <th>51<\/th>\n",
       "      <td>Mn2<\/td>\n",
       "      <td>Mississippi<\/td>\n",
       "      <td>nonchilled<\/td>\n",
       "      <td>250<\/td>\n",
       "      <td>30.6<\/td>\n",
       "    <\/tr>\n",
       "    <tr>\n",
       "      <th>52<\/th>\n",
       "      <td>Mn2<\/td>\n",
       "      <td>Mississippi<\/td>\n",
       "      <td>nonchilled<\/td>\n",
       "      <td>350<\/td>\n",
       "      <td>31.8<\/td>\n",
       "    <\/tr>\n",
       "    <tr>\n",
       "      <th>53<\/th>\n",
       "      <td>Mn2<\/td>\n",
       "      <td>Mississippi<\/td>\n",
       "      <td>nonchilled<\/td>\n",
       "      <td>500<\/td>\n",
       "      <td>32.4<\/td>\n",
       "    <\/tr>\n",
       "    <tr>\n",
       "      <th>54<\/th>\n",
       "      <td>Mn2<\/td>\n",
       "      <td>Mississippi<\/td>\n",
       "      <td>nonchilled<\/td>\n",
       "      <td>675<\/td>\n",
       "      <td>31.1<\/td>\n",
       "    <\/tr>\n",
       "    <tr>\n",
       "      <th>55<\/th>\n",
       "      <td>Mn2<\/td>\n",
       "      <td>Mississippi<\/td>\n",
       "      <td>nonchilled<\/td>\n",
       "      <td>1000<\/td>\n",
       "      <td>31.5<\/td>\n",
       "    <\/tr>\n",
       "    <tr>\n",
       "      <th>56<\/th>\n",
       "      <td>Mn3<\/td>\n",
       "      <td>Mississippi<\/td>\n",
       "      <td>nonchilled<\/td>\n",
       "      <td>95<\/td>\n",
       "      <td>11.3<\/td>\n",
       "    <\/tr>\n",
       "    <tr>\n",
       "      <th>57<\/th>\n",
       "      <td>Mn3<\/td>\n",
       "      <td>Mississippi<\/td>\n",
       "      <td>nonchilled<\/td>\n",
       "      <td>175<\/td>\n",
       "      <td>19.4<\/td>\n",
       "    <\/tr>\n",
       "    <tr>\n",
       "      <th>58<\/th>\n",
       "      <td>Mn3<\/td>\n",
       "      <td>Mississippi<\/td>\n",
       "      <td>nonchilled<\/td>\n",
       "      <td>250<\/td>\n",
       "      <td>25.8<\/td>\n",
       "    <\/tr>\n",
       "    <tr>\n",
       "      <th>59<\/th>\n",
       "      <td>Mn3<\/td>\n",
       "      <td>Mississippi<\/td>\n",
       "      <td>nonchilled<\/td>\n",
       "      <td>350<\/td>\n",
       "      <td>27.9<\/td>\n",
       "    <\/tr>\n",
       "    <tr>\n",
       "      <th>60<\/th>\n",
       "      <td>Mn3<\/td>\n",
       "      <td>Mississippi<\/td>\n",
       "      <td>nonchilled<\/td>\n",
       "      <td>500<\/td>\n",
       "      <td>28.5<\/td>\n",
       "    <\/tr>\n",
       "    <tr>\n",
       "      <th>61<\/th>\n",
       "      <td>Mn3<\/td>\n",
       "      <td>Mississippi<\/td>\n",
       "      <td>nonchilled<\/td>\n",
       "      <td>675<\/td>\n",
       "      <td>28.1<\/td>\n",
       "    <\/tr>\n",
       "    <tr>\n",
       "      <th>62<\/th>\n",
       "      <td>Mn3<\/td>\n",
       "      <td>Mississippi<\/td>\n",
       "      <td>nonchilled<\/td>\n",
       "      <td>1000<\/td>\n",
       "      <td>27.8<\/td>\n",
       "    <\/tr>\n",
       "    <tr>\n",
       "      <th>63<\/th>\n",
       "      <td>Mc1<\/td>\n",
       "      <td>Mississippi<\/td>\n",
       "      <td>chilled<\/td>\n",
       "      <td>95<\/td>\n",
       "      <td>10.5<\/td>\n",
       "    <\/tr>\n",
       "    <tr>\n",
       "      <th>64<\/th>\n",
       "      <td>Mc1<\/td>\n",
       "      <td>Mississippi<\/td>\n",
       "      <td>chilled<\/td>\n",
       "      <td>175<\/td>\n",
       "      <td>14.9<\/td>\n",
       "    <\/tr>\n",
       "    <tr>\n",
       "      <th>65<\/th>\n",
       "      <td>Mc1<\/td>\n",
       "      <td>Mississippi<\/td>\n",
       "      <td>chilled<\/td>\n",
       "      <td>250<\/td>\n",
       "      <td>18.1<\/td>\n",
       "    <\/tr>\n",
       "    <tr>\n",
       "      <th>66<\/th>\n",
       "      <td>Mc1<\/td>\n",
       "      <td>Mississippi<\/td>\n",
       "      <td>chilled<\/td>\n",
       "      <td>350<\/td>\n",
       "      <td>18.9<\/td>\n",
       "    <\/tr>\n",
       "    <tr>\n",
       "      <th>67<\/th>\n",
       "      <td>Mc1<\/td>\n",
       "      <td>Mississippi<\/td>\n",
       "      <td>chilled<\/td>\n",
       "      <td>500<\/td>\n",
       "      <td>19.5<\/td>\n",
       "    <\/tr>\n",
       "    <tr>\n",
       "      <th>68<\/th>\n",
       "      <td>Mc1<\/td>\n",
       "      <td>Mississippi<\/td>\n",
       "      <td>chilled<\/td>\n",
       "      <td>675<\/td>\n",
       "      <td>22.2<\/td>\n",
       "    <\/tr>\n",
       "    <tr>\n",
       "      <th>69<\/th>\n",
       "      <td>Mc1<\/td>\n",
       "      <td>Mississippi<\/td>\n",
       "      <td>chilled<\/td>\n",
       "      <td>1000<\/td>\n",
       "      <td>21.9<\/td>\n",
       "    <\/tr>\n",
       "    <tr>\n",
       "      <th>70<\/th>\n",
       "      <td>Mc2<\/td>\n",
       "      <td>Mississippi<\/td>\n",
       "      <td>chilled<\/td>\n",
       "      <td>95<\/td>\n",
       "      <td>7.7<\/td>\n",
       "    <\/tr>\n",
       "    <tr>\n",
       "      <th>71<\/th>\n",
       "      <td>Mc2<\/td>\n",
       "      <td>Mississippi<\/td>\n",
       "      <td>chilled<\/td>\n",
       "      <td>175<\/td>\n",
       "      <td>11.4<\/td>\n",
       "    <\/tr>\n",
       "    <tr>\n",
       "      <th>72<\/th>\n",
       "      <td>Mc2<\/td>\n",
       "      <td>Mississippi<\/td>\n",
       "      <td>chilled<\/td>\n",
       "      <td>250<\/td>\n",
       "      <td>12.3<\/td>\n",
       "    <\/tr>\n",
       "    <tr>\n",
       "      <th>73<\/th>\n",
       "      <td>Mc2<\/td>\n",
       "      <td>Mississippi<\/td>\n",
       "      <td>chilled<\/td>\n",
       "      <td>350<\/td>\n",
       "      <td>13.0<\/td>\n",
       "    <\/tr>\n",
       "    <tr>\n",
       "      <th>74<\/th>\n",
       "      <td>Mc2<\/td>\n",
       "      <td>Mississippi<\/td>\n",
       "      <td>chilled<\/td>\n",
       "      <td>500<\/td>\n",
       "      <td>12.5<\/td>\n",
       "    <\/tr>\n",
       "    <tr>\n",
       "      <th>75<\/th>\n",
       "      <td>Mc2<\/td>\n",
       "      <td>Mississippi<\/td>\n",
       "      <td>chilled<\/td>\n",
       "      <td>675<\/td>\n",
       "      <td>13.7<\/td>\n",
       "    <\/tr>\n",
       "    <tr>\n",
       "      <th>76<\/th>\n",
       "      <td>Mc2<\/td>\n",
       "      <td>Mississippi<\/td>\n",
       "      <td>chilled<\/td>\n",
       "      <td>1000<\/td>\n",
       "      <td>14.4<\/td>\n",
       "    <\/tr>\n",
       "    <tr>\n",
       "      <th>77<\/th>\n",
       "      <td>Mc3<\/td>\n",
       "      <td>Mississippi<\/td>\n",
       "      <td>chilled<\/td>\n",
       "      <td>95<\/td>\n",
       "      <td>10.6<\/td>\n",
       "    <\/tr>\n",
       "    <tr>\n",
       "      <th>78<\/th>\n",
       "      <td>Mc3<\/td>\n",
       "      <td>Mississippi<\/td>\n",
       "      <td>chilled<\/td>\n",
       "      <td>175<\/td>\n",
       "      <td>18.0<\/td>\n",
       "    <\/tr>\n",
       "    <tr>\n",
       "      <th>79<\/th>\n",
       "      <td>Mc3<\/td>\n",
       "      <td>Mississippi<\/td>\n",
       "      <td>chilled<\/td>\n",
       "      <td>250<\/td>\n",
       "      <td>17.9<\/td>\n",
       "    <\/tr>\n",
       "    <tr>\n",
       "      <th>80<\/th>\n",
       "      <td>Mc3<\/td>\n",
       "      <td>Mississippi<\/td>\n",
       "      <td>chilled<\/td>\n",
       "      <td>350<\/td>\n",
       "      <td>17.9<\/td>\n",
       "    <\/tr>\n",
       "    <tr>\n",
       "      <th>81<\/th>\n",
       "      <td>Mc3<\/td>\n",
       "      <td>Mississippi<\/td>\n",
       "      <td>chilled<\/td>\n",
       "      <td>500<\/td>\n",
       "      <td>17.9<\/td>\n",
       "    <\/tr>\n",
       "    <tr>\n",
       "      <th>82<\/th>\n",
       "      <td>Mc3<\/td>\n",
       "      <td>Mississippi<\/td>\n",
       "      <td>chilled<\/td>\n",
       "      <td>675<\/td>\n",
       "      <td>18.9<\/td>\n",
       "    <\/tr>\n",
       "    <tr>\n",
       "      <th>83<\/th>\n",
       "      <td>Mc3<\/td>\n",
       "      <td>Mississippi<\/td>\n",
       "      <td>chilled<\/td>\n",
       "      <td>1000<\/td>\n",
       "      <td>19.9<\/td>\n",
       "    <\/tr>\n",
       "  <\/tbody>\n",
       "<\/table>\n",
       "<\/div>"
      ]
     },
     "metadata":{
      
     },
     "output_type":"display_data"
    }
   ],
   "metadata":{
    "datalore":{
     "node_id":"Tes1qQELUyyGxlFXW3dmVf",
     "type":"CODE",
     "hide_input_from_viewers":true,
     "hide_output_from_viewers":true
    }
   }
  },
  {
   "cell_type":"code",
   "source":[
    "mis_agr_conc.reset_index()"
   ],
   "execution_count":14,
   "outputs":[
    {
     "data":{
      "text\/html":[
       "<div>\n",
       "<style scoped>\n",
       "    .dataframe tbody tr th:only-of-type {\n",
       "        vertical-align: middle;\n",
       "    }\n",
       "\n",
       "    .dataframe tbody tr th {\n",
       "        vertical-align: top;\n",
       "    }\n",
       "\n",
       "    .dataframe thead th {\n",
       "        text-align: right;\n",
       "    }\n",
       "<\/style>\n",
       "<table border=\"1\" class=\"dataframe\">\n",
       "  <thead>\n",
       "    <tr style=\"text-align: right;\">\n",
       "      <th><\/th>\n",
       "      <th>Plant<\/th>\n",
       "      <th>Treatment<\/th>\n",
       "      <th>conc<\/th>\n",
       "    <\/tr>\n",
       "  <\/thead>\n",
       "  <tbody>\n",
       "    <tr>\n",
       "      <th>0<\/th>\n",
       "      <td>Mc1<\/td>\n",
       "      <td>chilled<\/td>\n",
       "      <td>3045<\/td>\n",
       "    <\/tr>\n",
       "    <tr>\n",
       "      <th>1<\/th>\n",
       "      <td>Mc2<\/td>\n",
       "      <td>chilled<\/td>\n",
       "      <td>3045<\/td>\n",
       "    <\/tr>\n",
       "    <tr>\n",
       "      <th>2<\/th>\n",
       "      <td>Mc3<\/td>\n",
       "      <td>chilled<\/td>\n",
       "      <td>3045<\/td>\n",
       "    <\/tr>\n",
       "    <tr>\n",
       "      <th>3<\/th>\n",
       "      <td>Mn1<\/td>\n",
       "      <td>nonchilled<\/td>\n",
       "      <td>3045<\/td>\n",
       "    <\/tr>\n",
       "    <tr>\n",
       "      <th>4<\/th>\n",
       "      <td>Mn2<\/td>\n",
       "      <td>nonchilled<\/td>\n",
       "      <td>3045<\/td>\n",
       "    <\/tr>\n",
       "    <tr>\n",
       "      <th>5<\/th>\n",
       "      <td>Mn3<\/td>\n",
       "      <td>nonchilled<\/td>\n",
       "      <td>3045<\/td>\n",
       "    <\/tr>\n",
       "  <\/tbody>\n",
       "<\/table>\n",
       "<\/div>"
      ]
     },
     "metadata":{
      
     },
     "output_type":"display_data"
    }
   ],
   "metadata":{
    "datalore":{
     "node_id":"OYboz2AztyOjjLIogtAndH",
     "type":"CODE",
     "hide_input_from_viewers":true,
     "hide_output_from_viewers":true
    }
   }
  },
  {
   "cell_type":"code",
   "source":[
    "mis_agr_upt.reset_index()"
   ],
   "execution_count":15,
   "outputs":[
    {
     "data":{
      "text\/html":[
       "<div>\n",
       "<style scoped>\n",
       "    .dataframe tbody tr th:only-of-type {\n",
       "        vertical-align: middle;\n",
       "    }\n",
       "\n",
       "    .dataframe tbody tr th {\n",
       "        vertical-align: top;\n",
       "    }\n",
       "\n",
       "    .dataframe thead th {\n",
       "        text-align: right;\n",
       "    }\n",
       "<\/style>\n",
       "<table border=\"1\" class=\"dataframe\">\n",
       "  <thead>\n",
       "    <tr style=\"text-align: right;\">\n",
       "      <th><\/th>\n",
       "      <th>Plant<\/th>\n",
       "      <th>Treatment<\/th>\n",
       "      <th>uptake<\/th>\n",
       "    <\/tr>\n",
       "  <\/thead>\n",
       "  <tbody>\n",
       "    <tr>\n",
       "      <th>0<\/th>\n",
       "      <td>Mc1<\/td>\n",
       "      <td>chilled<\/td>\n",
       "      <td>126.0<\/td>\n",
       "    <\/tr>\n",
       "    <tr>\n",
       "      <th>1<\/th>\n",
       "      <td>Mc2<\/td>\n",
       "      <td>chilled<\/td>\n",
       "      <td>85.0<\/td>\n",
       "    <\/tr>\n",
       "    <tr>\n",
       "      <th>2<\/th>\n",
       "      <td>Mc3<\/td>\n",
       "      <td>chilled<\/td>\n",
       "      <td>121.1<\/td>\n",
       "    <\/tr>\n",
       "    <tr>\n",
       "      <th>3<\/th>\n",
       "      <td>Mn1<\/td>\n",
       "      <td>nonchilled<\/td>\n",
       "      <td>184.8<\/td>\n",
       "    <\/tr>\n",
       "    <tr>\n",
       "      <th>4<\/th>\n",
       "      <td>Mn2<\/td>\n",
       "      <td>nonchilled<\/td>\n",
       "      <td>191.4<\/td>\n",
       "    <\/tr>\n",
       "    <tr>\n",
       "      <th>5<\/th>\n",
       "      <td>Mn3<\/td>\n",
       "      <td>nonchilled<\/td>\n",
       "      <td>168.8<\/td>\n",
       "    <\/tr>\n",
       "  <\/tbody>\n",
       "<\/table>\n",
       "<\/div>"
      ]
     },
     "metadata":{
      
     },
     "output_type":"display_data"
    }
   ],
   "metadata":{
    "datalore":{
     "node_id":"hcW5x0snWaOUY1W9Ts6ISX",
     "type":"CODE",
     "hide_input_from_viewers":true,
     "hide_output_from_viewers":true
    }
   }
  },
  {
   "cell_type":"code",
   "source":[
    "qb = df.loc[df.Plant.str.contains(\"Qn|Qc\", case=False)]\n",
    "qb_agr_conc = qb.groupby(['Plant', 'Treatment'])['conc'].sum()\n",
    "qb_agr_upt = qb.groupby(['Plant', 'Treatment'])['uptake'].sum()\n",
    "qb"
   ],
   "execution_count":16,
   "outputs":[
    {
     "data":{
      "text\/html":[
       "<div>\n",
       "<style scoped>\n",
       "    .dataframe tbody tr th:only-of-type {\n",
       "        vertical-align: middle;\n",
       "    }\n",
       "\n",
       "    .dataframe tbody tr th {\n",
       "        vertical-align: top;\n",
       "    }\n",
       "\n",
       "    .dataframe thead th {\n",
       "        text-align: right;\n",
       "    }\n",
       "<\/style>\n",
       "<table border=\"1\" class=\"dataframe\">\n",
       "  <thead>\n",
       "    <tr style=\"text-align: right;\">\n",
       "      <th><\/th>\n",
       "      <th>Plant<\/th>\n",
       "      <th>Type<\/th>\n",
       "      <th>Treatment<\/th>\n",
       "      <th>conc<\/th>\n",
       "      <th>uptake<\/th>\n",
       "    <\/tr>\n",
       "  <\/thead>\n",
       "  <tbody>\n",
       "    <tr>\n",
       "      <th>0<\/th>\n",
       "      <td>Qn1<\/td>\n",
       "      <td>Quebec<\/td>\n",
       "      <td>nonchilled<\/td>\n",
       "      <td>95<\/td>\n",
       "      <td>16.0<\/td>\n",
       "    <\/tr>\n",
       "    <tr>\n",
       "      <th>1<\/th>\n",
       "      <td>Qn1<\/td>\n",
       "      <td>Quebec<\/td>\n",
       "      <td>nonchilled<\/td>\n",
       "      <td>175<\/td>\n",
       "      <td>30.4<\/td>\n",
       "    <\/tr>\n",
       "    <tr>\n",
       "      <th>2<\/th>\n",
       "      <td>Qn1<\/td>\n",
       "      <td>Quebec<\/td>\n",
       "      <td>nonchilled<\/td>\n",
       "      <td>250<\/td>\n",
       "      <td>34.8<\/td>\n",
       "    <\/tr>\n",
       "    <tr>\n",
       "      <th>3<\/th>\n",
       "      <td>Qn1<\/td>\n",
       "      <td>Quebec<\/td>\n",
       "      <td>nonchilled<\/td>\n",
       "      <td>350<\/td>\n",
       "      <td>37.2<\/td>\n",
       "    <\/tr>\n",
       "    <tr>\n",
       "      <th>4<\/th>\n",
       "      <td>Qn1<\/td>\n",
       "      <td>Quebec<\/td>\n",
       "      <td>nonchilled<\/td>\n",
       "      <td>500<\/td>\n",
       "      <td>35.3<\/td>\n",
       "    <\/tr>\n",
       "    <tr>\n",
       "      <th>5<\/th>\n",
       "      <td>Qn1<\/td>\n",
       "      <td>Quebec<\/td>\n",
       "      <td>nonchilled<\/td>\n",
       "      <td>675<\/td>\n",
       "      <td>39.2<\/td>\n",
       "    <\/tr>\n",
       "    <tr>\n",
       "      <th>6<\/th>\n",
       "      <td>Qn1<\/td>\n",
       "      <td>Quebec<\/td>\n",
       "      <td>nonchilled<\/td>\n",
       "      <td>1000<\/td>\n",
       "      <td>39.7<\/td>\n",
       "    <\/tr>\n",
       "    <tr>\n",
       "      <th>7<\/th>\n",
       "      <td>Qn2<\/td>\n",
       "      <td>Quebec<\/td>\n",
       "      <td>nonchilled<\/td>\n",
       "      <td>95<\/td>\n",
       "      <td>13.6<\/td>\n",
       "    <\/tr>\n",
       "    <tr>\n",
       "      <th>8<\/th>\n",
       "      <td>Qn2<\/td>\n",
       "      <td>Quebec<\/td>\n",
       "      <td>nonchilled<\/td>\n",
       "      <td>175<\/td>\n",
       "      <td>27.3<\/td>\n",
       "    <\/tr>\n",
       "    <tr>\n",
       "      <th>9<\/th>\n",
       "      <td>Qn2<\/td>\n",
       "      <td>Quebec<\/td>\n",
       "      <td>nonchilled<\/td>\n",
       "      <td>250<\/td>\n",
       "      <td>37.1<\/td>\n",
       "    <\/tr>\n",
       "    <tr>\n",
       "      <th>10<\/th>\n",
       "      <td>Qn2<\/td>\n",
       "      <td>Quebec<\/td>\n",
       "      <td>nonchilled<\/td>\n",
       "      <td>350<\/td>\n",
       "      <td>41.8<\/td>\n",
       "    <\/tr>\n",
       "    <tr>\n",
       "      <th>11<\/th>\n",
       "      <td>Qn2<\/td>\n",
       "      <td>Quebec<\/td>\n",
       "      <td>nonchilled<\/td>\n",
       "      <td>500<\/td>\n",
       "      <td>40.6<\/td>\n",
       "    <\/tr>\n",
       "    <tr>\n",
       "      <th>12<\/th>\n",
       "      <td>Qn2<\/td>\n",
       "      <td>Quebec<\/td>\n",
       "      <td>nonchilled<\/td>\n",
       "      <td>675<\/td>\n",
       "      <td>41.4<\/td>\n",
       "    <\/tr>\n",
       "    <tr>\n",
       "      <th>13<\/th>\n",
       "      <td>Qn2<\/td>\n",
       "      <td>Quebec<\/td>\n",
       "      <td>nonchilled<\/td>\n",
       "      <td>1000<\/td>\n",
       "      <td>44.3<\/td>\n",
       "    <\/tr>\n",
       "    <tr>\n",
       "      <th>14<\/th>\n",
       "      <td>Qn3<\/td>\n",
       "      <td>Quebec<\/td>\n",
       "      <td>nonchilled<\/td>\n",
       "      <td>95<\/td>\n",
       "      <td>16.2<\/td>\n",
       "    <\/tr>\n",
       "    <tr>\n",
       "      <th>15<\/th>\n",
       "      <td>Qn3<\/td>\n",
       "      <td>Quebec<\/td>\n",
       "      <td>nonchilled<\/td>\n",
       "      <td>175<\/td>\n",
       "      <td>32.4<\/td>\n",
       "    <\/tr>\n",
       "    <tr>\n",
       "      <th>16<\/th>\n",
       "      <td>Qn3<\/td>\n",
       "      <td>Quebec<\/td>\n",
       "      <td>nonchilled<\/td>\n",
       "      <td>250<\/td>\n",
       "      <td>40.3<\/td>\n",
       "    <\/tr>\n",
       "    <tr>\n",
       "      <th>17<\/th>\n",
       "      <td>Qn3<\/td>\n",
       "      <td>Quebec<\/td>\n",
       "      <td>nonchilled<\/td>\n",
       "      <td>350<\/td>\n",
       "      <td>42.1<\/td>\n",
       "    <\/tr>\n",
       "    <tr>\n",
       "      <th>18<\/th>\n",
       "      <td>Qn3<\/td>\n",
       "      <td>Quebec<\/td>\n",
       "      <td>nonchilled<\/td>\n",
       "      <td>500<\/td>\n",
       "      <td>42.9<\/td>\n",
       "    <\/tr>\n",
       "    <tr>\n",
       "      <th>19<\/th>\n",
       "      <td>Qn3<\/td>\n",
       "      <td>Quebec<\/td>\n",
       "      <td>nonchilled<\/td>\n",
       "      <td>675<\/td>\n",
       "      <td>43.9<\/td>\n",
       "    <\/tr>\n",
       "    <tr>\n",
       "      <th>20<\/th>\n",
       "      <td>Qn3<\/td>\n",
       "      <td>Quebec<\/td>\n",
       "      <td>nonchilled<\/td>\n",
       "      <td>1000<\/td>\n",
       "      <td>45.5<\/td>\n",
       "    <\/tr>\n",
       "    <tr>\n",
       "      <th>21<\/th>\n",
       "      <td>Qc1<\/td>\n",
       "      <td>Quebec<\/td>\n",
       "      <td>chilled<\/td>\n",
       "      <td>95<\/td>\n",
       "      <td>14.2<\/td>\n",
       "    <\/tr>\n",
       "    <tr>\n",
       "      <th>22<\/th>\n",
       "      <td>Qc1<\/td>\n",
       "      <td>Quebec<\/td>\n",
       "      <td>chilled<\/td>\n",
       "      <td>175<\/td>\n",
       "      <td>24.1<\/td>\n",
       "    <\/tr>\n",
       "    <tr>\n",
       "      <th>23<\/th>\n",
       "      <td>Qc1<\/td>\n",
       "      <td>Quebec<\/td>\n",
       "      <td>chilled<\/td>\n",
       "      <td>250<\/td>\n",
       "      <td>30.3<\/td>\n",
       "    <\/tr>\n",
       "    <tr>\n",
       "      <th>24<\/th>\n",
       "      <td>Qc1<\/td>\n",
       "      <td>Quebec<\/td>\n",
       "      <td>chilled<\/td>\n",
       "      <td>350<\/td>\n",
       "      <td>34.6<\/td>\n",
       "    <\/tr>\n",
       "    <tr>\n",
       "      <th>25<\/th>\n",
       "      <td>Qc1<\/td>\n",
       "      <td>Quebec<\/td>\n",
       "      <td>chilled<\/td>\n",
       "      <td>500<\/td>\n",
       "      <td>32.5<\/td>\n",
       "    <\/tr>\n",
       "    <tr>\n",
       "      <th>26<\/th>\n",
       "      <td>Qc1<\/td>\n",
       "      <td>Quebec<\/td>\n",
       "      <td>chilled<\/td>\n",
       "      <td>675<\/td>\n",
       "      <td>35.4<\/td>\n",
       "    <\/tr>\n",
       "    <tr>\n",
       "      <th>27<\/th>\n",
       "      <td>Qc1<\/td>\n",
       "      <td>Quebec<\/td>\n",
       "      <td>chilled<\/td>\n",
       "      <td>1000<\/td>\n",
       "      <td>38.7<\/td>\n",
       "    <\/tr>\n",
       "    <tr>\n",
       "      <th>28<\/th>\n",
       "      <td>Qc2<\/td>\n",
       "      <td>Quebec<\/td>\n",
       "      <td>chilled<\/td>\n",
       "      <td>95<\/td>\n",
       "      <td>9.3<\/td>\n",
       "    <\/tr>\n",
       "    <tr>\n",
       "      <th>29<\/th>\n",
       "      <td>Qc2<\/td>\n",
       "      <td>Quebec<\/td>\n",
       "      <td>chilled<\/td>\n",
       "      <td>175<\/td>\n",
       "      <td>27.3<\/td>\n",
       "    <\/tr>\n",
       "    <tr>\n",
       "      <th>30<\/th>\n",
       "      <td>Qc2<\/td>\n",
       "      <td>Quebec<\/td>\n",
       "      <td>chilled<\/td>\n",
       "      <td>250<\/td>\n",
       "      <td>35.0<\/td>\n",
       "    <\/tr>\n",
       "    <tr>\n",
       "      <th>31<\/th>\n",
       "      <td>Qc2<\/td>\n",
       "      <td>Quebec<\/td>\n",
       "      <td>chilled<\/td>\n",
       "      <td>350<\/td>\n",
       "      <td>38.8<\/td>\n",
       "    <\/tr>\n",
       "    <tr>\n",
       "      <th>32<\/th>\n",
       "      <td>Qc2<\/td>\n",
       "      <td>Quebec<\/td>\n",
       "      <td>chilled<\/td>\n",
       "      <td>500<\/td>\n",
       "      <td>38.6<\/td>\n",
       "    <\/tr>\n",
       "    <tr>\n",
       "      <th>33<\/th>\n",
       "      <td>Qc2<\/td>\n",
       "      <td>Quebec<\/td>\n",
       "      <td>chilled<\/td>\n",
       "      <td>675<\/td>\n",
       "      <td>37.5<\/td>\n",
       "    <\/tr>\n",
       "    <tr>\n",
       "      <th>34<\/th>\n",
       "      <td>Qc2<\/td>\n",
       "      <td>Quebec<\/td>\n",
       "      <td>chilled<\/td>\n",
       "      <td>1000<\/td>\n",
       "      <td>42.4<\/td>\n",
       "    <\/tr>\n",
       "    <tr>\n",
       "      <th>35<\/th>\n",
       "      <td>Qc3<\/td>\n",
       "      <td>Quebec<\/td>\n",
       "      <td>chilled<\/td>\n",
       "      <td>95<\/td>\n",
       "      <td>15.1<\/td>\n",
       "    <\/tr>\n",
       "    <tr>\n",
       "      <th>36<\/th>\n",
       "      <td>Qc3<\/td>\n",
       "      <td>Quebec<\/td>\n",
       "      <td>chilled<\/td>\n",
       "      <td>175<\/td>\n",
       "      <td>21.0<\/td>\n",
       "    <\/tr>\n",
       "    <tr>\n",
       "      <th>37<\/th>\n",
       "      <td>Qc3<\/td>\n",
       "      <td>Quebec<\/td>\n",
       "      <td>chilled<\/td>\n",
       "      <td>250<\/td>\n",
       "      <td>38.1<\/td>\n",
       "    <\/tr>\n",
       "    <tr>\n",
       "      <th>38<\/th>\n",
       "      <td>Qc3<\/td>\n",
       "      <td>Quebec<\/td>\n",
       "      <td>chilled<\/td>\n",
       "      <td>350<\/td>\n",
       "      <td>34.0<\/td>\n",
       "    <\/tr>\n",
       "    <tr>\n",
       "      <th>39<\/th>\n",
       "      <td>Qc3<\/td>\n",
       "      <td>Quebec<\/td>\n",
       "      <td>chilled<\/td>\n",
       "      <td>500<\/td>\n",
       "      <td>38.9<\/td>\n",
       "    <\/tr>\n",
       "    <tr>\n",
       "      <th>40<\/th>\n",
       "      <td>Qc3<\/td>\n",
       "      <td>Quebec<\/td>\n",
       "      <td>chilled<\/td>\n",
       "      <td>675<\/td>\n",
       "      <td>39.6<\/td>\n",
       "    <\/tr>\n",
       "    <tr>\n",
       "      <th>41<\/th>\n",
       "      <td>Qc3<\/td>\n",
       "      <td>Quebec<\/td>\n",
       "      <td>chilled<\/td>\n",
       "      <td>1000<\/td>\n",
       "      <td>41.4<\/td>\n",
       "    <\/tr>\n",
       "  <\/tbody>\n",
       "<\/table>\n",
       "<\/div>"
      ]
     },
     "metadata":{
      
     },
     "output_type":"display_data"
    }
   ],
   "metadata":{
    "datalore":{
     "node_id":"usTKt10xYpRNncc4XQwRsM",
     "type":"CODE",
     "hide_input_from_viewers":true,
     "hide_output_from_viewers":true
    }
   }
  },
  {
   "cell_type":"code",
   "source":[
    "qb_agr_conc.reset_index()"
   ],
   "execution_count":17,
   "outputs":[
    {
     "data":{
      "text\/html":[
       "<div>\n",
       "<style scoped>\n",
       "    .dataframe tbody tr th:only-of-type {\n",
       "        vertical-align: middle;\n",
       "    }\n",
       "\n",
       "    .dataframe tbody tr th {\n",
       "        vertical-align: top;\n",
       "    }\n",
       "\n",
       "    .dataframe thead th {\n",
       "        text-align: right;\n",
       "    }\n",
       "<\/style>\n",
       "<table border=\"1\" class=\"dataframe\">\n",
       "  <thead>\n",
       "    <tr style=\"text-align: right;\">\n",
       "      <th><\/th>\n",
       "      <th>Plant<\/th>\n",
       "      <th>Treatment<\/th>\n",
       "      <th>conc<\/th>\n",
       "    <\/tr>\n",
       "  <\/thead>\n",
       "  <tbody>\n",
       "    <tr>\n",
       "      <th>0<\/th>\n",
       "      <td>Qc1<\/td>\n",
       "      <td>chilled<\/td>\n",
       "      <td>3045<\/td>\n",
       "    <\/tr>\n",
       "    <tr>\n",
       "      <th>1<\/th>\n",
       "      <td>Qc2<\/td>\n",
       "      <td>chilled<\/td>\n",
       "      <td>3045<\/td>\n",
       "    <\/tr>\n",
       "    <tr>\n",
       "      <th>2<\/th>\n",
       "      <td>Qc3<\/td>\n",
       "      <td>chilled<\/td>\n",
       "      <td>3045<\/td>\n",
       "    <\/tr>\n",
       "    <tr>\n",
       "      <th>3<\/th>\n",
       "      <td>Qn1<\/td>\n",
       "      <td>nonchilled<\/td>\n",
       "      <td>3045<\/td>\n",
       "    <\/tr>\n",
       "    <tr>\n",
       "      <th>4<\/th>\n",
       "      <td>Qn2<\/td>\n",
       "      <td>nonchilled<\/td>\n",
       "      <td>3045<\/td>\n",
       "    <\/tr>\n",
       "    <tr>\n",
       "      <th>5<\/th>\n",
       "      <td>Qn3<\/td>\n",
       "      <td>nonchilled<\/td>\n",
       "      <td>3045<\/td>\n",
       "    <\/tr>\n",
       "  <\/tbody>\n",
       "<\/table>\n",
       "<\/div>"
      ]
     },
     "metadata":{
      
     },
     "output_type":"display_data"
    }
   ],
   "metadata":{
    "datalore":{
     "node_id":"JesxEslPCFF04olAYbjJ9c",
     "type":"CODE",
     "hide_input_from_viewers":true,
     "hide_output_from_viewers":true
    }
   }
  },
  {
   "cell_type":"code",
   "source":[
    "qb_agr_upt = qb_agr_upt.reset_index()\n",
    "mis_agr_upt = mis_agr_upt.reset_index()"
   ],
   "execution_count":18,
   "outputs":[
    
   ],
   "metadata":{
    "datalore":{
     "node_id":"Ax5QDbOaVP9ekpg35FL2Ya",
     "type":"CODE",
     "hide_input_from_viewers":true,
     "hide_output_from_viewers":true
    }
   }
  },
  {
   "cell_type":"code",
   "source":[
    "qb_agr_upt"
   ],
   "execution_count":19,
   "outputs":[
    {
     "data":{
      "text\/html":[
       "<div>\n",
       "<style scoped>\n",
       "    .dataframe tbody tr th:only-of-type {\n",
       "        vertical-align: middle;\n",
       "    }\n",
       "\n",
       "    .dataframe tbody tr th {\n",
       "        vertical-align: top;\n",
       "    }\n",
       "\n",
       "    .dataframe thead th {\n",
       "        text-align: right;\n",
       "    }\n",
       "<\/style>\n",
       "<table border=\"1\" class=\"dataframe\">\n",
       "  <thead>\n",
       "    <tr style=\"text-align: right;\">\n",
       "      <th><\/th>\n",
       "      <th>Plant<\/th>\n",
       "      <th>Treatment<\/th>\n",
       "      <th>uptake<\/th>\n",
       "    <\/tr>\n",
       "  <\/thead>\n",
       "  <tbody>\n",
       "    <tr>\n",
       "      <th>0<\/th>\n",
       "      <td>Qc1<\/td>\n",
       "      <td>chilled<\/td>\n",
       "      <td>209.8<\/td>\n",
       "    <\/tr>\n",
       "    <tr>\n",
       "      <th>1<\/th>\n",
       "      <td>Qc2<\/td>\n",
       "      <td>chilled<\/td>\n",
       "      <td>228.9<\/td>\n",
       "    <\/tr>\n",
       "    <tr>\n",
       "      <th>2<\/th>\n",
       "      <td>Qc3<\/td>\n",
       "      <td>chilled<\/td>\n",
       "      <td>228.1<\/td>\n",
       "    <\/tr>\n",
       "    <tr>\n",
       "      <th>3<\/th>\n",
       "      <td>Qn1<\/td>\n",
       "      <td>nonchilled<\/td>\n",
       "      <td>232.6<\/td>\n",
       "    <\/tr>\n",
       "    <tr>\n",
       "      <th>4<\/th>\n",
       "      <td>Qn2<\/td>\n",
       "      <td>nonchilled<\/td>\n",
       "      <td>246.1<\/td>\n",
       "    <\/tr>\n",
       "    <tr>\n",
       "      <th>5<\/th>\n",
       "      <td>Qn3<\/td>\n",
       "      <td>nonchilled<\/td>\n",
       "      <td>263.3<\/td>\n",
       "    <\/tr>\n",
       "  <\/tbody>\n",
       "<\/table>\n",
       "<\/div>"
      ]
     },
     "metadata":{
      
     },
     "output_type":"display_data"
    }
   ],
   "metadata":{
    "datalore":{
     "node_id":"IRZOoD1BoEU0o6I3hOXBo5",
     "type":"CODE",
     "hide_input_from_viewers":true,
     "hide_output_from_viewers":true
    }
   }
  },
  {
   "cell_type":"code",
   "source":[
    "mis_agr_upt"
   ],
   "execution_count":20,
   "outputs":[
    {
     "data":{
      "text\/html":[
       "<div>\n",
       "<style scoped>\n",
       "    .dataframe tbody tr th:only-of-type {\n",
       "        vertical-align: middle;\n",
       "    }\n",
       "\n",
       "    .dataframe tbody tr th {\n",
       "        vertical-align: top;\n",
       "    }\n",
       "\n",
       "    .dataframe thead th {\n",
       "        text-align: right;\n",
       "    }\n",
       "<\/style>\n",
       "<table border=\"1\" class=\"dataframe\">\n",
       "  <thead>\n",
       "    <tr style=\"text-align: right;\">\n",
       "      <th><\/th>\n",
       "      <th>Plant<\/th>\n",
       "      <th>Treatment<\/th>\n",
       "      <th>uptake<\/th>\n",
       "    <\/tr>\n",
       "  <\/thead>\n",
       "  <tbody>\n",
       "    <tr>\n",
       "      <th>0<\/th>\n",
       "      <td>Mc1<\/td>\n",
       "      <td>chilled<\/td>\n",
       "      <td>126.0<\/td>\n",
       "    <\/tr>\n",
       "    <tr>\n",
       "      <th>1<\/th>\n",
       "      <td>Mc2<\/td>\n",
       "      <td>chilled<\/td>\n",
       "      <td>85.0<\/td>\n",
       "    <\/tr>\n",
       "    <tr>\n",
       "      <th>2<\/th>\n",
       "      <td>Mc3<\/td>\n",
       "      <td>chilled<\/td>\n",
       "      <td>121.1<\/td>\n",
       "    <\/tr>\n",
       "    <tr>\n",
       "      <th>3<\/th>\n",
       "      <td>Mn1<\/td>\n",
       "      <td>nonchilled<\/td>\n",
       "      <td>184.8<\/td>\n",
       "    <\/tr>\n",
       "    <tr>\n",
       "      <th>4<\/th>\n",
       "      <td>Mn2<\/td>\n",
       "      <td>nonchilled<\/td>\n",
       "      <td>191.4<\/td>\n",
       "    <\/tr>\n",
       "    <tr>\n",
       "      <th>5<\/th>\n",
       "      <td>Mn3<\/td>\n",
       "      <td>nonchilled<\/td>\n",
       "      <td>168.8<\/td>\n",
       "    <\/tr>\n",
       "  <\/tbody>\n",
       "<\/table>\n",
       "<\/div>"
      ]
     },
     "metadata":{
      
     },
     "output_type":"display_data"
    }
   ],
   "metadata":{
    "datalore":{
     "node_id":"2pxgsQU9THkBAItbh3njDl",
     "type":"CODE",
     "hide_input_from_viewers":true,
     "hide_output_from_viewers":true
    }
   }
  },
  {
   "cell_type":"code",
   "source":[
    "sns.histplot(data=mis_agr_upt, x='Plant', y='uptake', shrink=0.8, kde=True)"
   ],
   "execution_count":21,
   "outputs":[
    {
     "data":{
      "text\/plain":[
       "<AxesSubplot:xlabel='Plant', ylabel='uptake'>"
      ]
     },
     "metadata":{
      
     },
     "output_type":"display_data"
    },
    {
     "data":{
      "image\/png":"[encoded data removed]"
     },
     "metadata":{
      "image\/png":{
       
      }
     },
     "output_type":"display_data"
    }
   ],
   "metadata":{
    "datalore":{
     "node_id":"lOgW4zpolm7yBwmQrMNWmz",
     "type":"CODE",
     "hide_input_from_viewers":true,
     "hide_output_from_viewers":true
    }
   }
  },
  {
   "cell_type":"code",
   "source":[
    "sns.histplot(data=qb_agr_upt, x='Plant', y='uptake', shrink=0.8, kde=True)"
   ],
   "execution_count":22,
   "outputs":[
    {
     "data":{
      "text\/plain":[
       "<AxesSubplot:xlabel='Plant', ylabel='uptake'>"
      ]
     },
     "metadata":{
      
     },
     "output_type":"display_data"
    },
    {
     "data":{
      "image\/png":"[encoded data removed]"
     },
     "metadata":{
      "image\/png":{
       
      }
     },
     "output_type":"display_data"
    }
   ],
   "metadata":{
    "datalore":{
     "node_id":"kfRh3ufgaxW7YFuIOdaglC",
     "type":"CODE",
     "hide_input_from_viewers":true,
     "hide_output_from_viewers":true
    }
   }
  },
  {
   "cell_type":"code",
   "source":[
    "sns.barplot(data=mis, x='Plant', y='uptake', hue='Treatment')"
   ],
   "execution_count":23,
   "outputs":[
    {
     "data":{
      "text\/plain":[
       "<AxesSubplot:xlabel='Plant', ylabel='uptake'>"
      ]
     },
     "metadata":{
      
     },
     "output_type":"display_data"
    },
    {
     "data":{
      "image\/png":"[encoded data removed]"
     },
     "metadata":{
      "image\/png":{
       
      }
     },
     "output_type":"display_data"
    }
   ],
   "metadata":{
    "datalore":{
     "node_id":"chAJaxK7tQWpNGo5k0sAKy",
     "type":"CODE",
     "hide_input_from_viewers":true,
     "hide_output_from_viewers":true
    }
   }
  },
  {
   "cell_type":"code",
   "source":[
    "sns.barplot(data=qb, x='Plant', y='uptake', hue='Treatment')"
   ],
   "execution_count":24,
   "outputs":[
    {
     "data":{
      "text\/plain":[
       "<AxesSubplot:xlabel='Plant', ylabel='uptake'>"
      ]
     },
     "metadata":{
      
     },
     "output_type":"display_data"
    },
    {
     "data":{
      "image\/png":"[encoded data removed]"
     },
     "metadata":{
      "image\/png":{
       
      }
     },
     "output_type":"display_data"
    }
   ],
   "metadata":{
    "datalore":{
     "node_id":"EgtfR5puoCvRqV4YyN7qfV",
     "type":"CODE",
     "hide_input_from_viewers":true,
     "hide_output_from_viewers":true
    }
   }
  },
  {
   "cell_type":"markdown",
   "source":[
    "Tarefa: Qual tipo de planta, entre as refrigeradas e não refrigeradas de cada local, e qual delas possui maior absorção de CO2?\n",
    "\n",
    "Resposta: Em ambos os locais é visto que plantas não refrigeradas possuem maior absorção de CO2 do que as plantas refrigeradas. A saber de forma mais específica, as plantas não refrigeradas de Mississipi do tipo Mn2 possuem uma soma de absorção maior que as outras plantas da mesma região, seja refrigerada ou não.\n",
    "\n",
    "Enquanto que, em Quebec, a planta com maior absorção de CO2 também pertence a classe não refrigerada. Onde entre estas, a planta Qn3 possui a maior soma de absorção.\n",
    "\n",
    "Dito isso, se o objetivo é escolher as melhores plantas, para cada região, Mississipi e Quebec, respectivamente, seria Mn2 e Qn3."
   ],
   "attachments":{
    
   },
   "metadata":{
    "datalore":{
     "node_id":"GpV5WIqVZ0ceG6YLWSDHKU",
     "type":"MD",
     "hide_input_from_viewers":true,
     "hide_output_from_viewers":true
    }
   }
  },
  {
   "cell_type":"code",
   "source":[
    
   ],
   "execution_count":null,
   "outputs":[
    
   ],
   "metadata":{
    "datalore":{
     "node_id":"fLzaGfLtB5TXDBjJb5qwZa",
     "type":"CODE",
     "hide_input_from_viewers":true,
     "hide_output_from_viewers":true
    }
   }
  },
  {
   "cell_type":"markdown",
   "source":[
    "# Dados"
   ],
   "attachments":{
    
   },
   "metadata":{
    "datalore":{
     "node_id":"Dados",
     "type":"MD",
     "hide_input_from_viewers":false,
     "hide_output_from_viewers":false,
     "sheet_delimiter":true
    }
   }
  },
  {
   "cell_type":"code",
   "source":[
    "data = pd.read_csv('dados.csv', sep=';', engine='c')\n",
    "df = data.copy()\n",
    "df.shape"
   ],
   "execution_count":25,
   "outputs":[
    {
     "data":{
      "text\/plain":[
       "(187, 4)"
      ]
     },
     "metadata":{
      
     },
     "output_type":"display_data"
    }
   ],
   "metadata":{
    "datalore":{
     "node_id":"RzCZvOz0HcJmGA5Tu7NiJ1",
     "type":"CODE",
     "hide_input_from_viewers":true,
     "hide_output_from_viewers":true
    }
   }
  },
  {
   "cell_type":"code",
   "source":[
    "df"
   ],
   "execution_count":26,
   "outputs":[
    {
     "data":{
      "text\/html":[
       "<div>\n",
       "<style scoped>\n",
       "    .dataframe tbody tr th:only-of-type {\n",
       "        vertical-align: middle;\n",
       "    }\n",
       "\n",
       "    .dataframe tbody tr th {\n",
       "        vertical-align: top;\n",
       "    }\n",
       "\n",
       "    .dataframe thead th {\n",
       "        text-align: right;\n",
       "    }\n",
       "<\/style>\n",
       "<table border=\"1\" class=\"dataframe\">\n",
       "  <thead>\n",
       "    <tr style=\"text-align: right;\">\n",
       "      <th><\/th>\n",
       "      <th>CODIGO<\/th>\n",
       "      <th>MUNICIPIO<\/th>\n",
       "      <th>PIB<\/th>\n",
       "      <th>VALOREMPENHO<\/th>\n",
       "    <\/tr>\n",
       "  <\/thead>\n",
       "  <tbody>\n",
       "    <tr>\n",
       "      <th>0<\/th>\n",
       "      <td>106<\/td>\n",
       "      <td>SANTANA DO LIVRAMENTO<\/td>\n",
       "      <td>12240.76<\/td>\n",
       "      <td>1088666.10<\/td>\n",
       "    <\/tr>\n",
       "    <tr>\n",
       "      <th>1<\/th>\n",
       "      <td>113<\/td>\n",
       "      <td>SANTO ANGELO<\/td>\n",
       "      <td>16575.82<\/td>\n",
       "      <td>800669.92<\/td>\n",
       "    <\/tr>\n",
       "    <tr>\n",
       "      <th>2<\/th>\n",
       "      <td>118<\/td>\n",
       "      <td>SAO FRANCISCO DE ASSIS<\/td>\n",
       "      <td>12037.61<\/td>\n",
       "      <td>466122.80<\/td>\n",
       "    <\/tr>\n",
       "    <tr>\n",
       "      <th>3<\/th>\n",
       "      <td>13<\/td>\n",
       "      <td>CACAPAVA DO SUL<\/td>\n",
       "      <td>13674.54<\/td>\n",
       "      <td>485535.86<\/td>\n",
       "    <\/tr>\n",
       "    <tr>\n",
       "      <th>4<\/th>\n",
       "      <td>120<\/td>\n",
       "      <td>SAO GABRIEL<\/td>\n",
       "      <td>19912.38<\/td>\n",
       "      <td>533719.86<\/td>\n",
       "    <\/tr>\n",
       "    <tr>\n",
       "      <th>...<\/th>\n",
       "      <td>...<\/td>\n",
       "      <td>...<\/td>\n",
       "      <td>...<\/td>\n",
       "      <td>...<\/td>\n",
       "    <\/tr>\n",
       "    <tr>\n",
       "      <th>182<\/th>\n",
       "      <td>372<\/td>\n",
       "      <td>SANTA VITORIA DO PALMAR<\/td>\n",
       "      <td>27170.89<\/td>\n",
       "      <td>760.00<\/td>\n",
       "    <\/tr>\n",
       "    <tr>\n",
       "      <th>183<\/th>\n",
       "      <td>107<\/td>\n",
       "      <td>SANTA BARBARA DO SUL<\/td>\n",
       "      <td>29654.02<\/td>\n",
       "      <td>365.00<\/td>\n",
       "    <\/tr>\n",
       "    <tr>\n",
       "      <th>184<\/th>\n",
       "      <td>54<\/td>\n",
       "      <td>GETULIO VARGAS<\/td>\n",
       "      <td>16876.33<\/td>\n",
       "      <td>233.01<\/td>\n",
       "    <\/tr>\n",
       "    <tr>\n",
       "      <th>185<\/th>\n",
       "      <td>382<\/td>\n",
       "      <td>NOVA SANTA RITA<\/td>\n",
       "      <td>25938.38<\/td>\n",
       "      <td>310.58<\/td>\n",
       "    <\/tr>\n",
       "    <tr>\n",
       "      <th>186<\/th>\n",
       "      <td>60<\/td>\n",
       "      <td>GUARANI DAS MISSOES<\/td>\n",
       "      <td>24363.31<\/td>\n",
       "      <td>172.13<\/td>\n",
       "    <\/tr>\n",
       "  <\/tbody>\n",
       "<\/table>\n",
       "<p>187 rows × 4 columns<\/p>\n",
       "<\/div>"
      ]
     },
     "metadata":{
      
     },
     "output_type":"display_data"
    }
   ],
   "metadata":{
    "datalore":{
     "node_id":"LGNUnedMJRx21PUwSptWKB",
     "type":"CODE",
     "hide_input_from_viewers":true,
     "hide_output_from_viewers":true
    }
   }
  },
  {
   "cell_type":"code",
   "source":[
    "# df.loc[df.duplicated(['CODIGO'], keep=False) == True]\n",
    "df.loc[df.duplicated(['MUNICIPIO'], keep=False) == True]"
   ],
   "execution_count":27,
   "outputs":[
    {
     "data":{
      "text\/html":[
       "<div>\n",
       "<style scoped>\n",
       "    .dataframe tbody tr th:only-of-type {\n",
       "        vertical-align: middle;\n",
       "    }\n",
       "\n",
       "    .dataframe tbody tr th {\n",
       "        vertical-align: top;\n",
       "    }\n",
       "\n",
       "    .dataframe thead th {\n",
       "        text-align: right;\n",
       "    }\n",
       "<\/style>\n",
       "<table border=\"1\" class=\"dataframe\">\n",
       "  <thead>\n",
       "    <tr style=\"text-align: right;\">\n",
       "      <th><\/th>\n",
       "      <th>CODIGO<\/th>\n",
       "      <th>MUNICIPIO<\/th>\n",
       "      <th>PIB<\/th>\n",
       "      <th>VALOREMPENHO<\/th>\n",
       "    <\/tr>\n",
       "  <\/thead>\n",
       "  <tbody>\n",
       "    <tr>\n",
       "      <th>18<\/th>\n",
       "      <td>259<\/td>\n",
       "      <td>CERRO BRANCO<\/td>\n",
       "      <td>11961.10<\/td>\n",
       "      <td>208240.50<\/td>\n",
       "    <\/tr>\n",
       "    <tr>\n",
       "      <th>19<\/th>\n",
       "      <td>259<\/td>\n",
       "      <td>MONTE ALEGRE DOS CAMPOS<\/td>\n",
       "      <td>11961.10<\/td>\n",
       "      <td>208240.50<\/td>\n",
       "    <\/tr>\n",
       "    <tr>\n",
       "      <th>21<\/th>\n",
       "      <td>259<\/td>\n",
       "      <td>CERRO BRANCO<\/td>\n",
       "      <td>12467.25<\/td>\n",
       "      <td>208240.50<\/td>\n",
       "    <\/tr>\n",
       "    <tr>\n",
       "      <th>22<\/th>\n",
       "      <td>259<\/td>\n",
       "      <td>MONTE ALEGRE DOS CAMPOS<\/td>\n",
       "      <td>12467.25<\/td>\n",
       "      <td>208240.50<\/td>\n",
       "    <\/tr>\n",
       "    <tr>\n",
       "      <th>41<\/th>\n",
       "      <td>141<\/td>\n",
       "      <td>DOUTOR MAURICIO CARDOSO<\/td>\n",
       "      <td>13628.17<\/td>\n",
       "      <td>147767.38<\/td>\n",
       "    <\/tr>\n",
       "    <tr>\n",
       "      <th>42<\/th>\n",
       "      <td>141<\/td>\n",
       "      <td>TAQUARA<\/td>\n",
       "      <td>13628.17<\/td>\n",
       "      <td>147767.38<\/td>\n",
       "    <\/tr>\n",
       "    <tr>\n",
       "      <th>57<\/th>\n",
       "      <td>141<\/td>\n",
       "      <td>DOUTOR MAURICIO CARDOSO<\/td>\n",
       "      <td>18628.78<\/td>\n",
       "      <td>147767.38<\/td>\n",
       "    <\/tr>\n",
       "    <tr>\n",
       "      <th>58<\/th>\n",
       "      <td>141<\/td>\n",
       "      <td>TAQUARA<\/td>\n",
       "      <td>18628.78<\/td>\n",
       "      <td>147767.38<\/td>\n",
       "    <\/tr>\n",
       "    <tr>\n",
       "      <th>82<\/th>\n",
       "      <td>378<\/td>\n",
       "      <td>MULITERNO<\/td>\n",
       "      <td>16581.60<\/td>\n",
       "      <td>97594.98<\/td>\n",
       "    <\/tr>\n",
       "    <tr>\n",
       "      <th>83<\/th>\n",
       "      <td>378<\/td>\n",
       "      <td>SANTO ANTONIO DAS MISSOES<\/td>\n",
       "      <td>16581.60<\/td>\n",
       "      <td>97594.98<\/td>\n",
       "    <\/tr>\n",
       "    <tr>\n",
       "      <th>94<\/th>\n",
       "      <td>378<\/td>\n",
       "      <td>MULITERNO<\/td>\n",
       "      <td>19914.82<\/td>\n",
       "      <td>97594.98<\/td>\n",
       "    <\/tr>\n",
       "    <tr>\n",
       "      <th>95<\/th>\n",
       "      <td>378<\/td>\n",
       "      <td>SANTO ANTONIO DAS MISSOES<\/td>\n",
       "      <td>19914.82<\/td>\n",
       "      <td>97594.98<\/td>\n",
       "    <\/tr>\n",
       "    <tr>\n",
       "      <th>125<\/th>\n",
       "      <td>380<\/td>\n",
       "      <td>NOVA BOA VISTA<\/td>\n",
       "      <td>18676.57<\/td>\n",
       "      <td>58868.19<\/td>\n",
       "    <\/tr>\n",
       "    <tr>\n",
       "      <th>126<\/th>\n",
       "      <td>380<\/td>\n",
       "      <td>SANTO ANTONIO DO PLANALTO<\/td>\n",
       "      <td>18676.57<\/td>\n",
       "      <td>58868.19<\/td>\n",
       "    <\/tr>\n",
       "    <tr>\n",
       "      <th>141<\/th>\n",
       "      <td>380<\/td>\n",
       "      <td>NOVA BOA VISTA<\/td>\n",
       "      <td>24509.74<\/td>\n",
       "      <td>58868.19<\/td>\n",
       "    <\/tr>\n",
       "    <tr>\n",
       "      <th>142<\/th>\n",
       "      <td>380<\/td>\n",
       "      <td>SANTO ANTONIO DO PLANALTO<\/td>\n",
       "      <td>24509.74<\/td>\n",
       "      <td>58868.19<\/td>\n",
       "    <\/tr>\n",
       "    <tr>\n",
       "      <th>179<\/th>\n",
       "      <td>372<\/td>\n",
       "      <td>MATO LEITAO<\/td>\n",
       "      <td>17213.98<\/td>\n",
       "      <td>760.00<\/td>\n",
       "    <\/tr>\n",
       "    <tr>\n",
       "      <th>180<\/th>\n",
       "      <td>372<\/td>\n",
       "      <td>SANTA VITORIA DO PALMAR<\/td>\n",
       "      <td>17213.98<\/td>\n",
       "      <td>760.00<\/td>\n",
       "    <\/tr>\n",
       "    <tr>\n",
       "      <th>181<\/th>\n",
       "      <td>372<\/td>\n",
       "      <td>MATO LEITAO<\/td>\n",
       "      <td>27170.89<\/td>\n",
       "      <td>760.00<\/td>\n",
       "    <\/tr>\n",
       "    <tr>\n",
       "      <th>182<\/th>\n",
       "      <td>372<\/td>\n",
       "      <td>SANTA VITORIA DO PALMAR<\/td>\n",
       "      <td>27170.89<\/td>\n",
       "      <td>760.00<\/td>\n",
       "    <\/tr>\n",
       "  <\/tbody>\n",
       "<\/table>\n",
       "<\/div>"
      ]
     },
     "metadata":{
      
     },
     "output_type":"display_data"
    }
   ],
   "metadata":{
    "datalore":{
     "node_id":"d7YycQTlLZLL3g6mUdRMSh",
     "type":"CODE",
     "hide_input_from_viewers":true,
     "hide_output_from_viewers":true
    }
   }
  },
  {
   "cell_type":"code",
   "source":[
    "# df.drop_duplicates(['CODIGO'], keep='first', inplace=True)\n",
    "df.drop_duplicates(['MUNICIPIO'], keep='first', inplace=True)"
   ],
   "execution_count":28,
   "outputs":[
    
   ],
   "metadata":{
    "datalore":{
     "node_id":"w1oXT4fmKR5d5nxVMQ9Rvl",
     "type":"CODE",
     "hide_input_from_viewers":true,
     "hide_output_from_viewers":true
    }
   }
  },
  {
   "cell_type":"code",
   "source":[
    "df.loc[df.duplicated(['MUNICIPIO'], keep=False) == True]"
   ],
   "execution_count":29,
   "outputs":[
    {
     "data":{
      "text\/html":[
       "<div>\n",
       "<style scoped>\n",
       "    .dataframe tbody tr th:only-of-type {\n",
       "        vertical-align: middle;\n",
       "    }\n",
       "\n",
       "    .dataframe tbody tr th {\n",
       "        vertical-align: top;\n",
       "    }\n",
       "\n",
       "    .dataframe thead th {\n",
       "        text-align: right;\n",
       "    }\n",
       "<\/style>\n",
       "<table border=\"1\" class=\"dataframe\">\n",
       "  <thead>\n",
       "    <tr style=\"text-align: right;\">\n",
       "      <th><\/th>\n",
       "      <th>CODIGO<\/th>\n",
       "      <th>MUNICIPIO<\/th>\n",
       "      <th>PIB<\/th>\n",
       "      <th>VALOREMPENHO<\/th>\n",
       "    <\/tr>\n",
       "  <\/thead>\n",
       "  <tbody>\n",
       "  <\/tbody>\n",
       "<\/table>\n",
       "<\/div>"
      ]
     },
     "metadata":{
      
     },
     "output_type":"display_data"
    }
   ],
   "metadata":{
    "datalore":{
     "node_id":"vtnOpScowU2nCP0XBJa5hl",
     "type":"CODE",
     "hide_input_from_viewers":true,
     "hide_output_from_viewers":true
    }
   }
  },
  {
   "cell_type":"code",
   "source":[
    "df.loc[df.duplicated(['CODIGO'], keep=False) == True]"
   ],
   "execution_count":30,
   "outputs":[
    {
     "data":{
      "text\/html":[
       "<div>\n",
       "<style scoped>\n",
       "    .dataframe tbody tr th:only-of-type {\n",
       "        vertical-align: middle;\n",
       "    }\n",
       "\n",
       "    .dataframe tbody tr th {\n",
       "        vertical-align: top;\n",
       "    }\n",
       "\n",
       "    .dataframe thead th {\n",
       "        text-align: right;\n",
       "    }\n",
       "<\/style>\n",
       "<table border=\"1\" class=\"dataframe\">\n",
       "  <thead>\n",
       "    <tr style=\"text-align: right;\">\n",
       "      <th><\/th>\n",
       "      <th>CODIGO<\/th>\n",
       "      <th>MUNICIPIO<\/th>\n",
       "      <th>PIB<\/th>\n",
       "      <th>VALOREMPENHO<\/th>\n",
       "    <\/tr>\n",
       "  <\/thead>\n",
       "  <tbody>\n",
       "    <tr>\n",
       "      <th>18<\/th>\n",
       "      <td>259<\/td>\n",
       "      <td>CERRO BRANCO<\/td>\n",
       "      <td>11961.10<\/td>\n",
       "      <td>208240.50<\/td>\n",
       "    <\/tr>\n",
       "    <tr>\n",
       "      <th>19<\/th>\n",
       "      <td>259<\/td>\n",
       "      <td>MONTE ALEGRE DOS CAMPOS<\/td>\n",
       "      <td>11961.10<\/td>\n",
       "      <td>208240.50<\/td>\n",
       "    <\/tr>\n",
       "    <tr>\n",
       "      <th>41<\/th>\n",
       "      <td>141<\/td>\n",
       "      <td>DOUTOR MAURICIO CARDOSO<\/td>\n",
       "      <td>13628.17<\/td>\n",
       "      <td>147767.38<\/td>\n",
       "    <\/tr>\n",
       "    <tr>\n",
       "      <th>42<\/th>\n",
       "      <td>141<\/td>\n",
       "      <td>TAQUARA<\/td>\n",
       "      <td>13628.17<\/td>\n",
       "      <td>147767.38<\/td>\n",
       "    <\/tr>\n",
       "    <tr>\n",
       "      <th>82<\/th>\n",
       "      <td>378<\/td>\n",
       "      <td>MULITERNO<\/td>\n",
       "      <td>16581.60<\/td>\n",
       "      <td>97594.98<\/td>\n",
       "    <\/tr>\n",
       "    <tr>\n",
       "      <th>83<\/th>\n",
       "      <td>378<\/td>\n",
       "      <td>SANTO ANTONIO DAS MISSOES<\/td>\n",
       "      <td>16581.60<\/td>\n",
       "      <td>97594.98<\/td>\n",
       "    <\/tr>\n",
       "    <tr>\n",
       "      <th>125<\/th>\n",
       "      <td>380<\/td>\n",
       "      <td>NOVA BOA VISTA<\/td>\n",
       "      <td>18676.57<\/td>\n",
       "      <td>58868.19<\/td>\n",
       "    <\/tr>\n",
       "    <tr>\n",
       "      <th>126<\/th>\n",
       "      <td>380<\/td>\n",
       "      <td>SANTO ANTONIO DO PLANALTO<\/td>\n",
       "      <td>18676.57<\/td>\n",
       "      <td>58868.19<\/td>\n",
       "    <\/tr>\n",
       "    <tr>\n",
       "      <th>179<\/th>\n",
       "      <td>372<\/td>\n",
       "      <td>MATO LEITAO<\/td>\n",
       "      <td>17213.98<\/td>\n",
       "      <td>760.00<\/td>\n",
       "    <\/tr>\n",
       "    <tr>\n",
       "      <th>180<\/th>\n",
       "      <td>372<\/td>\n",
       "      <td>SANTA VITORIA DO PALMAR<\/td>\n",
       "      <td>17213.98<\/td>\n",
       "      <td>760.00<\/td>\n",
       "    <\/tr>\n",
       "  <\/tbody>\n",
       "<\/table>\n",
       "<\/div>"
      ]
     },
     "metadata":{
      
     },
     "output_type":"display_data"
    }
   ],
   "metadata":{
    "datalore":{
     "node_id":"XN4IaUBD827rh5063OEVnS",
     "type":"CODE",
     "hide_input_from_viewers":true,
     "hide_output_from_viewers":true
    }
   }
  },
  {
   "cell_type":"code",
   "source":[
    "df.drop_duplicates(['CODIGO'], inplace=True, keep='first')"
   ],
   "execution_count":31,
   "outputs":[
    
   ],
   "metadata":{
    "datalore":{
     "node_id":"JS62qZkoPFH18f63khMJIE",
     "type":"CODE",
     "hide_input_from_viewers":true,
     "hide_output_from_viewers":true
    }
   }
  },
  {
   "cell_type":"code",
   "source":[
    "df.loc[df.duplicated(['CODIGO'], keep=False) == True].empty"
   ],
   "execution_count":32,
   "outputs":[
    {
     "data":{
      "text\/plain":[
       "True"
      ]
     },
     "metadata":{
      
     },
     "output_type":"display_data"
    }
   ],
   "metadata":{
    "datalore":{
     "node_id":"OGX9qOIq6Ckg4tyNIHHBkK",
     "type":"CODE",
     "hide_input_from_viewers":true,
     "hide_output_from_viewers":true
    }
   }
  },
  {
   "cell_type":"code",
   "source":[
    "df['PIB']"
   ],
   "execution_count":33,
   "outputs":[
    {
     "data":{
      "text\/html":[
       
      ]
     },
     "metadata":{
      
     },
     "output_type":"display_data"
    }
   ],
   "metadata":{
    "datalore":{
     "node_id":"IXQIAJytMd57RCbLTSuNTS",
     "type":"CODE",
     "hide_input_from_viewers":true,
     "hide_output_from_viewers":true
    }
   }
  },
  {
   "cell_type":"code",
   "source":[
    "df.loc[df['PIB'] > 2 * df['PIB'].std(), 'PIB'] = df['PIB'].median()"
   ],
   "execution_count":34,
   "outputs":[
    
   ],
   "metadata":{
    "datalore":{
     "node_id":"uHTXypFbcvZlAV2bX3VXke",
     "type":"CODE",
     "hide_input_from_viewers":true,
     "hide_output_from_viewers":true
    }
   }
  },
  {
   "cell_type":"code",
   "source":[
    "df['PIB']"
   ],
   "execution_count":35,
   "outputs":[
    {
     "data":{
      "text\/html":[
       
      ]
     },
     "metadata":{
      
     },
     "output_type":"display_data"
    }
   ],
   "metadata":{
    "datalore":{
     "node_id":"hGz9hYPTRoGFUM2pVrp9OW",
     "type":"CODE",
     "hide_input_from_viewers":true,
     "hide_output_from_viewers":true
    }
   }
  },
  {
   "cell_type":"code",
   "source":[
    "df['VALOREMPENHO']"
   ],
   "execution_count":36,
   "outputs":[
    {
     "data":{
      "text\/html":[
       
      ]
     },
     "metadata":{
      
     },
     "output_type":"display_data"
    }
   ],
   "metadata":{
    "datalore":{
     "node_id":"6WCpCihomlx4IJz10DSpmA",
     "type":"CODE",
     "hide_input_from_viewers":true,
     "hide_output_from_viewers":true
    }
   }
  },
  {
   "cell_type":"code",
   "source":[
    "df.loc[df['VALOREMPENHO'] > 2 * df['VALOREMPENHO'].std(), 'VALOREMPENHO'] = df['VALOREMPENHO'].median()"
   ],
   "execution_count":37,
   "outputs":[
    
   ],
   "metadata":{
    "datalore":{
     "node_id":"zMxCTYYifOjJ28I53LtYL1",
     "type":"CODE",
     "hide_input_from_viewers":true,
     "hide_output_from_viewers":true
    }
   }
  },
  {
   "cell_type":"code",
   "source":[
    "df['VALOREMPENHO']"
   ],
   "execution_count":38,
   "outputs":[
    {
     "data":{
      "text\/html":[
       
      ]
     },
     "metadata":{
      
     },
     "output_type":"display_data"
    }
   ],
   "metadata":{
    "datalore":{
     "node_id":"zBoWATMaVqBVkmcamXoiTv",
     "type":"CODE",
     "hide_input_from_viewers":true,
     "hide_output_from_viewers":true
    }
   }
  },
  {
   "cell_type":"code",
   "source":[
    "sns.barplot(data=df.nlargest(10, 'PIB'), x='PIB', y='MUNICIPIO');"
   ],
   "execution_count":39,
   "outputs":[
    {
     "data":{
      "image\/png":"[encoded data removed]"
     },
     "metadata":{
      "image\/png":{
       
      }
     },
     "output_type":"display_data"
    }
   ],
   "metadata":{
    "datalore":{
     "node_id":"J6qyyzQMSni53vzyEKUHlp",
     "type":"CODE",
     "hide_input_from_viewers":true,
     "hide_output_from_viewers":true
    }
   }
  },
  {
   "cell_type":"code",
   "source":[
    "sns.barplot(data=df.nsmallest(10, 'PIB').sort_values(by='PIB', ascending=False), x='PIB', y='MUNICIPIO');"
   ],
   "execution_count":40,
   "outputs":[
    {
     "data":{
      "image\/png":"[encoded data removed]"
     },
     "metadata":{
      "image\/png":{
       
      }
     },
     "output_type":"display_data"
    }
   ],
   "metadata":{
    "datalore":{
     "node_id":"aeNNkFskacpMeDkDmIB0Nw",
     "type":"CODE",
     "hide_input_from_viewers":true,
     "hide_output_from_viewers":true
    }
   }
  },
  {
   "cell_type":"code",
   "source":[
    "sns.barplot(data=df.nlargest(10, 'VALOREMPENHO'), x='VALOREMPENHO', y='MUNICIPIO');"
   ],
   "execution_count":41,
   "outputs":[
    {
     "data":{
      "image\/png":"[encoded data removed]"
     },
     "metadata":{
      "image\/png":{
       
      }
     },
     "output_type":"display_data"
    }
   ],
   "metadata":{
    "datalore":{
     "node_id":"eHxmTE5XKID7uh3Eu0lb7w",
     "type":"CODE",
     "hide_input_from_viewers":true,
     "hide_output_from_viewers":true
    }
   }
  },
  {
   "cell_type":"code",
   "source":[
    "sns.barplot(data=df.nsmallest(10, 'VALOREMPENHO').sort_values(by='VALOREMPENHO', ascending=False), x='VALOREMPENHO', y='MUNICIPIO');"
   ],
   "execution_count":42,
   "outputs":[
    {
     "data":{
      "image\/png":"[encoded data removed]"
     },
     "metadata":{
      "image\/png":{
       
      }
     },
     "output_type":"display_data"
    }
   ],
   "metadata":{
    "datalore":{
     "node_id":"856SY4Njn0CeQoKyAqZrbo",
     "type":"CODE",
     "hide_input_from_viewers":true,
     "hide_output_from_viewers":true
    }
   }
  },
  {
   "cell_type":"code",
   "source":[
    "df"
   ],
   "execution_count":43,
   "outputs":[
    {
     "data":{
      "text\/html":[
       "<div>\n",
       "<style scoped>\n",
       "    .dataframe tbody tr th:only-of-type {\n",
       "        vertical-align: middle;\n",
       "    }\n",
       "\n",
       "    .dataframe tbody tr th {\n",
       "        vertical-align: top;\n",
       "    }\n",
       "\n",
       "    .dataframe thead th {\n",
       "        text-align: right;\n",
       "    }\n",
       "<\/style>\n",
       "<table border=\"1\" class=\"dataframe\">\n",
       "  <thead>\n",
       "    <tr style=\"text-align: right;\">\n",
       "      <th><\/th>\n",
       "      <th>CODIGO<\/th>\n",
       "      <th>MUNICIPIO<\/th>\n",
       "      <th>PIB<\/th>\n",
       "      <th>VALOREMPENHO<\/th>\n",
       "    <\/tr>\n",
       "  <\/thead>\n",
       "  <tbody>\n",
       "    <tr>\n",
       "      <th>0<\/th>\n",
       "      <td>106<\/td>\n",
       "      <td>SANTANA DO LIVRAMENTO<\/td>\n",
       "      <td>12240.76<\/td>\n",
       "      <td>83477.15<\/td>\n",
       "    <\/tr>\n",
       "    <tr>\n",
       "      <th>1<\/th>\n",
       "      <td>113<\/td>\n",
       "      <td>SANTO ANGELO<\/td>\n",
       "      <td>16575.82<\/td>\n",
       "      <td>83477.15<\/td>\n",
       "    <\/tr>\n",
       "    <tr>\n",
       "      <th>2<\/th>\n",
       "      <td>118<\/td>\n",
       "      <td>SAO FRANCISCO DE ASSIS<\/td>\n",
       "      <td>12037.61<\/td>\n",
       "      <td>83477.15<\/td>\n",
       "    <\/tr>\n",
       "    <tr>\n",
       "      <th>3<\/th>\n",
       "      <td>13<\/td>\n",
       "      <td>CACAPAVA DO SUL<\/td>\n",
       "      <td>13674.54<\/td>\n",
       "      <td>83477.15<\/td>\n",
       "    <\/tr>\n",
       "    <tr>\n",
       "      <th>4<\/th>\n",
       "      <td>120<\/td>\n",
       "      <td>SAO GABRIEL<\/td>\n",
       "      <td>19912.38<\/td>\n",
       "      <td>83477.15<\/td>\n",
       "    <\/tr>\n",
       "    <tr>\n",
       "      <th>...<\/th>\n",
       "      <td>...<\/td>\n",
       "      <td>...<\/td>\n",
       "      <td>...<\/td>\n",
       "      <td>...<\/td>\n",
       "    <\/tr>\n",
       "    <tr>\n",
       "      <th>179<\/th>\n",
       "      <td>372<\/td>\n",
       "      <td>MATO LEITAO<\/td>\n",
       "      <td>17213.98<\/td>\n",
       "      <td>760.00<\/td>\n",
       "    <\/tr>\n",
       "    <tr>\n",
       "      <th>183<\/th>\n",
       "      <td>107<\/td>\n",
       "      <td>SANTA BARBARA DO SUL<\/td>\n",
       "      <td>29654.02<\/td>\n",
       "      <td>365.00<\/td>\n",
       "    <\/tr>\n",
       "    <tr>\n",
       "      <th>184<\/th>\n",
       "      <td>54<\/td>\n",
       "      <td>GETULIO VARGAS<\/td>\n",
       "      <td>16876.33<\/td>\n",
       "      <td>233.01<\/td>\n",
       "    <\/tr>\n",
       "    <tr>\n",
       "      <th>185<\/th>\n",
       "      <td>382<\/td>\n",
       "      <td>NOVA SANTA RITA<\/td>\n",
       "      <td>25938.38<\/td>\n",
       "      <td>310.58<\/td>\n",
       "    <\/tr>\n",
       "    <tr>\n",
       "      <th>186<\/th>\n",
       "      <td>60<\/td>\n",
       "      <td>GUARANI DAS MISSOES<\/td>\n",
       "      <td>24363.31<\/td>\n",
       "      <td>172.13<\/td>\n",
       "    <\/tr>\n",
       "  <\/tbody>\n",
       "<\/table>\n",
       "<p>172 rows × 4 columns<\/p>\n",
       "<\/div>"
      ]
     },
     "metadata":{
      
     },
     "output_type":"display_data"
    }
   ],
   "metadata":{
    "datalore":{
     "node_id":"sJAvFObplExRMrMT6Zj3oM",
     "type":"CODE",
     "hide_input_from_viewers":true,
     "hide_output_from_viewers":true
    }
   }
  },
  {
   "cell_type":"code",
   "source":[
    "df['VALOREMPENHO']"
   ],
   "execution_count":44,
   "outputs":[
    {
     "data":{
      "text\/html":[
       
      ]
     },
     "metadata":{
      
     },
     "output_type":"display_data"
    }
   ],
   "metadata":{
    "datalore":{
     "node_id":"QoCqTHPwCPYEypquUeD8MR",
     "type":"CODE",
     "hide_input_from_viewers":true,
     "hide_output_from_viewers":true
    }
   }
  }
 ],
 "metadata":{
  "kernelspec":{
   "display_name":"Python",
   "language":"python",
   "name":"python"
  },
  "datalore":{
   "computation_mode":"REACTIVE",
   "package_manager":"pip",
   "base_environment":"default",
   "packages":[
    
   ],
   "report_row_ids":[
    
   ],
   "version":2
  }
 },
 "nbformat":4,
 "nbformat_minor":4
}