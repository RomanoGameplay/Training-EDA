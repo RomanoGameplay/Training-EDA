{
 "cells":[
  {
   "cell_type":"markdown",
   "source":[
    "# Churn"
   ],
   "attachments":{
    
   },
   "metadata":{
    "datalore":{
     "node_id":"Churn",
     "type":"MD",
     "hide_input_from_viewers":false,
     "hide_output_from_viewers":false,
     "sheet_delimiter":true
    }
   }
  },
  {
   "cell_type":"code",
   "source":[
    "import pandas as pd\n",
    "import matplotlib.pyplot as plt\n",
    "import seaborn as sns\n",
    "import statistics as sts\n",
    "%matplotlib inline"
   ],
   "execution_count":2,
   "outputs":[
    
   ],
   "metadata":{
    "datalore":{
     "node_id":"ILYvYFYXWzKjnmgA3jyWKK",
     "type":"CODE",
     "hide_input_from_viewers":true,
     "hide_output_from_viewers":true
    }
   }
  },
  {
   "cell_type":"code",
   "source":[
    "data = pd.read_csv('Churn.csv',engine='c', sep=';')\n",
    "df = data.copy()\n",
    "df.shape"
   ],
   "execution_count":3,
   "outputs":[
    {
     "data":{
      "text\/plain":[
       "(999, 12)"
      ]
     },
     "metadata":{
      
     },
     "output_type":"display_data"
    }
   ],
   "metadata":{
    "datalore":{
     "node_id":"PHIVAihTPeA2YlU77Nplos",
     "type":"CODE",
     "hide_input_from_viewers":true,
     "hide_output_from_viewers":true
    }
   }
  },
  {
   "cell_type":"code",
   "source":[
    "df.columns = ['ID', 'Score', 'Estado', 'Genero', 'Idade', 'Patrimonio', 'Saldo', 'Produtos', 'TemCartCredito', 'Ativo', 'Salario', 'Saiu']\n",
    "df"
   ],
   "execution_count":4,
   "outputs":[
    {
     "data":{
      "text\/html":[
       "<div>\n",
       "<style scoped>\n",
       "    .dataframe tbody tr th:only-of-type {\n",
       "        vertical-align: middle;\n",
       "    }\n",
       "\n",
       "    .dataframe tbody tr th {\n",
       "        vertical-align: top;\n",
       "    }\n",
       "\n",
       "    .dataframe thead th {\n",
       "        text-align: right;\n",
       "    }\n",
       "<\/style>\n",
       "<table border=\"1\" class=\"dataframe\">\n",
       "  <thead>\n",
       "    <tr style=\"text-align: right;\">\n",
       "      <th><\/th>\n",
       "      <th>ID<\/th>\n",
       "      <th>Score<\/th>\n",
       "      <th>Estado<\/th>\n",
       "      <th>Genero<\/th>\n",
       "      <th>Idade<\/th>\n",
       "      <th>Patrimonio<\/th>\n",
       "      <th>Saldo<\/th>\n",
       "      <th>Produtos<\/th>\n",
       "      <th>TemCartCredito<\/th>\n",
       "      <th>Ativo<\/th>\n",
       "      <th>Salario<\/th>\n",
       "      <th>Saiu<\/th>\n",
       "    <\/tr>\n",
       "  <\/thead>\n",
       "  <tbody>\n",
       "    <tr>\n",
       "      <th>0<\/th>\n",
       "      <td>1<\/td>\n",
       "      <td>619<\/td>\n",
       "      <td>RS<\/td>\n",
       "      <td>Feminino<\/td>\n",
       "      <td>42<\/td>\n",
       "      <td>2<\/td>\n",
       "      <td>0<\/td>\n",
       "      <td>1<\/td>\n",
       "      <td>1<\/td>\n",
       "      <td>1<\/td>\n",
       "      <td>10134888.0<\/td>\n",
       "      <td>1<\/td>\n",
       "    <\/tr>\n",
       "    <tr>\n",
       "      <th>1<\/th>\n",
       "      <td>2<\/td>\n",
       "      <td>608<\/td>\n",
       "      <td>SC<\/td>\n",
       "      <td>Feminino<\/td>\n",
       "      <td>41<\/td>\n",
       "      <td>1<\/td>\n",
       "      <td>8380786<\/td>\n",
       "      <td>1<\/td>\n",
       "      <td>0<\/td>\n",
       "      <td>1<\/td>\n",
       "      <td>11254258.0<\/td>\n",
       "      <td>0<\/td>\n",
       "    <\/tr>\n",
       "    <tr>\n",
       "      <th>2<\/th>\n",
       "      <td>3<\/td>\n",
       "      <td>502<\/td>\n",
       "      <td>RS<\/td>\n",
       "      <td>Feminino<\/td>\n",
       "      <td>42<\/td>\n",
       "      <td>8<\/td>\n",
       "      <td>1596608<\/td>\n",
       "      <td>3<\/td>\n",
       "      <td>1<\/td>\n",
       "      <td>0<\/td>\n",
       "      <td>11393157.0<\/td>\n",
       "      <td>1<\/td>\n",
       "    <\/tr>\n",
       "    <tr>\n",
       "      <th>3<\/th>\n",
       "      <td>4<\/td>\n",
       "      <td>699<\/td>\n",
       "      <td>RS<\/td>\n",
       "      <td>Feminino<\/td>\n",
       "      <td>39<\/td>\n",
       "      <td>1<\/td>\n",
       "      <td>0<\/td>\n",
       "      <td>2<\/td>\n",
       "      <td>0<\/td>\n",
       "      <td>0<\/td>\n",
       "      <td>9382663.0<\/td>\n",
       "      <td>0<\/td>\n",
       "    <\/tr>\n",
       "    <tr>\n",
       "      <th>4<\/th>\n",
       "      <td>5<\/td>\n",
       "      <td>850<\/td>\n",
       "      <td>SC<\/td>\n",
       "      <td>Feminino<\/td>\n",
       "      <td>43<\/td>\n",
       "      <td>2<\/td>\n",
       "      <td>12551082<\/td>\n",
       "      <td>1<\/td>\n",
       "      <td>1<\/td>\n",
       "      <td>1<\/td>\n",
       "      <td>790841.0<\/td>\n",
       "      <td>0<\/td>\n",
       "    <\/tr>\n",
       "    <tr>\n",
       "      <th>...<\/th>\n",
       "      <td>...<\/td>\n",
       "      <td>...<\/td>\n",
       "      <td>...<\/td>\n",
       "      <td>...<\/td>\n",
       "      <td>...<\/td>\n",
       "      <td>...<\/td>\n",
       "      <td>...<\/td>\n",
       "      <td>...<\/td>\n",
       "      <td>...<\/td>\n",
       "      <td>...<\/td>\n",
       "      <td>...<\/td>\n",
       "      <td>...<\/td>\n",
       "    <\/tr>\n",
       "    <tr>\n",
       "      <th>994<\/th>\n",
       "      <td>996<\/td>\n",
       "      <td>838<\/td>\n",
       "      <td>SC<\/td>\n",
       "      <td>Masculino<\/td>\n",
       "      <td>43<\/td>\n",
       "      <td>9<\/td>\n",
       "      <td>12310588<\/td>\n",
       "      <td>2<\/td>\n",
       "      <td>1<\/td>\n",
       "      <td>0<\/td>\n",
       "      <td>14576583.0<\/td>\n",
       "      <td>0<\/td>\n",
       "    <\/tr>\n",
       "    <tr>\n",
       "      <th>995<\/th>\n",
       "      <td>997<\/td>\n",
       "      <td>610<\/td>\n",
       "      <td>SC<\/td>\n",
       "      <td>Masculino<\/td>\n",
       "      <td>29<\/td>\n",
       "      <td>9<\/td>\n",
       "      <td>0<\/td>\n",
       "      <td>3<\/td>\n",
       "      <td>0<\/td>\n",
       "      <td>1<\/td>\n",
       "      <td>8391224.0<\/td>\n",
       "      <td>0<\/td>\n",
       "    <\/tr>\n",
       "    <tr>\n",
       "      <th>996<\/th>\n",
       "      <td>998<\/td>\n",
       "      <td>811<\/td>\n",
       "      <td>SC<\/td>\n",
       "      <td>Masculino<\/td>\n",
       "      <td>44<\/td>\n",
       "      <td>3<\/td>\n",
       "      <td>0<\/td>\n",
       "      <td>2<\/td>\n",
       "      <td>0<\/td>\n",
       "      <td>1<\/td>\n",
       "      <td>7843973.0<\/td>\n",
       "      <td>0<\/td>\n",
       "    <\/tr>\n",
       "    <tr>\n",
       "      <th>997<\/th>\n",
       "      <td>999<\/td>\n",
       "      <td>587<\/td>\n",
       "      <td>SC<\/td>\n",
       "      <td>Masculino<\/td>\n",
       "      <td>62<\/td>\n",
       "      <td>7<\/td>\n",
       "      <td>12128627<\/td>\n",
       "      <td>1<\/td>\n",
       "      <td>0<\/td>\n",
       "      <td>1<\/td>\n",
       "      <td>677692.0<\/td>\n",
       "      <td>0<\/td>\n",
       "    <\/tr>\n",
       "    <tr>\n",
       "      <th>998<\/th>\n",
       "      <td>1000<\/td>\n",
       "      <td>811<\/td>\n",
       "      <td>PR<\/td>\n",
       "      <td>Feminino<\/td>\n",
       "      <td>28<\/td>\n",
       "      <td>4<\/td>\n",
       "      <td>16773882<\/td>\n",
       "      <td>2<\/td>\n",
       "      <td>1<\/td>\n",
       "      <td>1<\/td>\n",
       "      <td>990342.0<\/td>\n",
       "      <td>0<\/td>\n",
       "    <\/tr>\n",
       "  <\/tbody>\n",
       "<\/table>\n",
       "<p>999 rows × 12 columns<\/p>\n",
       "<\/div>"
      ]
     },
     "metadata":{
      
     },
     "output_type":"display_data"
    }
   ],
   "metadata":{
    "datalore":{
     "node_id":"Ng2uwxHhCdVwjwnTSdJ3Um",
     "type":"CODE",
     "hide_input_from_viewers":true,
     "hide_output_from_viewers":true
    }
   }
  },
  {
   "cell_type":"code",
   "source":[
    "df.loc[df['Estado'].isin(['TD', 'RP', 'SP']), 'Estado'] = sts.mode(df.Estado)\n",
    "df.Estado"
   ],
   "execution_count":5,
   "outputs":[
    {
     "data":{
      "text\/html":[
       
      ]
     },
     "metadata":{
      
     },
     "output_type":"display_data"
    }
   ],
   "metadata":{
    "datalore":{
     "node_id":"9JCDO3eqmJlQTWl0NC3Da4",
     "type":"CODE",
     "hide_input_from_viewers":true,
     "hide_output_from_viewers":true
    }
   }
  },
  {
   "cell_type":"code",
   "source":[
    "df.loc[df['Genero'].isin(['F', 'Fem']), 'Genero'] = 'Feminino'\n",
    "df.loc[df['Genero'] == 'M', 'Genero'] = 'Masculino'\n",
    "df['Genero'].fillna(sts.mode(df['Genero']), inplace=True)\n",
    "df"
   ],
   "execution_count":6,
   "outputs":[
    {
     "data":{
      "text\/html":[
       "<div>\n",
       "<style scoped>\n",
       "    .dataframe tbody tr th:only-of-type {\n",
       "        vertical-align: middle;\n",
       "    }\n",
       "\n",
       "    .dataframe tbody tr th {\n",
       "        vertical-align: top;\n",
       "    }\n",
       "\n",
       "    .dataframe thead th {\n",
       "        text-align: right;\n",
       "    }\n",
       "<\/style>\n",
       "<table border=\"1\" class=\"dataframe\">\n",
       "  <thead>\n",
       "    <tr style=\"text-align: right;\">\n",
       "      <th><\/th>\n",
       "      <th>ID<\/th>\n",
       "      <th>Score<\/th>\n",
       "      <th>Estado<\/th>\n",
       "      <th>Genero<\/th>\n",
       "      <th>Idade<\/th>\n",
       "      <th>Patrimonio<\/th>\n",
       "      <th>Saldo<\/th>\n",
       "      <th>Produtos<\/th>\n",
       "      <th>TemCartCredito<\/th>\n",
       "      <th>Ativo<\/th>\n",
       "      <th>Salario<\/th>\n",
       "      <th>Saiu<\/th>\n",
       "    <\/tr>\n",
       "  <\/thead>\n",
       "  <tbody>\n",
       "    <tr>\n",
       "      <th>0<\/th>\n",
       "      <td>1<\/td>\n",
       "      <td>619<\/td>\n",
       "      <td>RS<\/td>\n",
       "      <td>Feminino<\/td>\n",
       "      <td>42<\/td>\n",
       "      <td>2<\/td>\n",
       "      <td>0<\/td>\n",
       "      <td>1<\/td>\n",
       "      <td>1<\/td>\n",
       "      <td>1<\/td>\n",
       "      <td>10134888.0<\/td>\n",
       "      <td>1<\/td>\n",
       "    <\/tr>\n",
       "    <tr>\n",
       "      <th>1<\/th>\n",
       "      <td>2<\/td>\n",
       "      <td>608<\/td>\n",
       "      <td>SC<\/td>\n",
       "      <td>Feminino<\/td>\n",
       "      <td>41<\/td>\n",
       "      <td>1<\/td>\n",
       "      <td>8380786<\/td>\n",
       "      <td>1<\/td>\n",
       "      <td>0<\/td>\n",
       "      <td>1<\/td>\n",
       "      <td>11254258.0<\/td>\n",
       "      <td>0<\/td>\n",
       "    <\/tr>\n",
       "    <tr>\n",
       "      <th>2<\/th>\n",
       "      <td>3<\/td>\n",
       "      <td>502<\/td>\n",
       "      <td>RS<\/td>\n",
       "      <td>Feminino<\/td>\n",
       "      <td>42<\/td>\n",
       "      <td>8<\/td>\n",
       "      <td>1596608<\/td>\n",
       "      <td>3<\/td>\n",
       "      <td>1<\/td>\n",
       "      <td>0<\/td>\n",
       "      <td>11393157.0<\/td>\n",
       "      <td>1<\/td>\n",
       "    <\/tr>\n",
       "    <tr>\n",
       "      <th>3<\/th>\n",
       "      <td>4<\/td>\n",
       "      <td>699<\/td>\n",
       "      <td>RS<\/td>\n",
       "      <td>Feminino<\/td>\n",
       "      <td>39<\/td>\n",
       "      <td>1<\/td>\n",
       "      <td>0<\/td>\n",
       "      <td>2<\/td>\n",
       "      <td>0<\/td>\n",
       "      <td>0<\/td>\n",
       "      <td>9382663.0<\/td>\n",
       "      <td>0<\/td>\n",
       "    <\/tr>\n",
       "    <tr>\n",
       "      <th>4<\/th>\n",
       "      <td>5<\/td>\n",
       "      <td>850<\/td>\n",
       "      <td>SC<\/td>\n",
       "      <td>Feminino<\/td>\n",
       "      <td>43<\/td>\n",
       "      <td>2<\/td>\n",
       "      <td>12551082<\/td>\n",
       "      <td>1<\/td>\n",
       "      <td>1<\/td>\n",
       "      <td>1<\/td>\n",
       "      <td>790841.0<\/td>\n",
       "      <td>0<\/td>\n",
       "    <\/tr>\n",
       "    <tr>\n",
       "      <th>...<\/th>\n",
       "      <td>...<\/td>\n",
       "      <td>...<\/td>\n",
       "      <td>...<\/td>\n",
       "      <td>...<\/td>\n",
       "      <td>...<\/td>\n",
       "      <td>...<\/td>\n",
       "      <td>...<\/td>\n",
       "      <td>...<\/td>\n",
       "      <td>...<\/td>\n",
       "      <td>...<\/td>\n",
       "      <td>...<\/td>\n",
       "      <td>...<\/td>\n",
       "    <\/tr>\n",
       "    <tr>\n",
       "      <th>994<\/th>\n",
       "      <td>996<\/td>\n",
       "      <td>838<\/td>\n",
       "      <td>SC<\/td>\n",
       "      <td>Masculino<\/td>\n",
       "      <td>43<\/td>\n",
       "      <td>9<\/td>\n",
       "      <td>12310588<\/td>\n",
       "      <td>2<\/td>\n",
       "      <td>1<\/td>\n",
       "      <td>0<\/td>\n",
       "      <td>14576583.0<\/td>\n",
       "      <td>0<\/td>\n",
       "    <\/tr>\n",
       "    <tr>\n",
       "      <th>995<\/th>\n",
       "      <td>997<\/td>\n",
       "      <td>610<\/td>\n",
       "      <td>SC<\/td>\n",
       "      <td>Masculino<\/td>\n",
       "      <td>29<\/td>\n",
       "      <td>9<\/td>\n",
       "      <td>0<\/td>\n",
       "      <td>3<\/td>\n",
       "      <td>0<\/td>\n",
       "      <td>1<\/td>\n",
       "      <td>8391224.0<\/td>\n",
       "      <td>0<\/td>\n",
       "    <\/tr>\n",
       "    <tr>\n",
       "      <th>996<\/th>\n",
       "      <td>998<\/td>\n",
       "      <td>811<\/td>\n",
       "      <td>SC<\/td>\n",
       "      <td>Masculino<\/td>\n",
       "      <td>44<\/td>\n",
       "      <td>3<\/td>\n",
       "      <td>0<\/td>\n",
       "      <td>2<\/td>\n",
       "      <td>0<\/td>\n",
       "      <td>1<\/td>\n",
       "      <td>7843973.0<\/td>\n",
       "      <td>0<\/td>\n",
       "    <\/tr>\n",
       "    <tr>\n",
       "      <th>997<\/th>\n",
       "      <td>999<\/td>\n",
       "      <td>587<\/td>\n",
       "      <td>SC<\/td>\n",
       "      <td>Masculino<\/td>\n",
       "      <td>62<\/td>\n",
       "      <td>7<\/td>\n",
       "      <td>12128627<\/td>\n",
       "      <td>1<\/td>\n",
       "      <td>0<\/td>\n",
       "      <td>1<\/td>\n",
       "      <td>677692.0<\/td>\n",
       "      <td>0<\/td>\n",
       "    <\/tr>\n",
       "    <tr>\n",
       "      <th>998<\/th>\n",
       "      <td>1000<\/td>\n",
       "      <td>811<\/td>\n",
       "      <td>PR<\/td>\n",
       "      <td>Feminino<\/td>\n",
       "      <td>28<\/td>\n",
       "      <td>4<\/td>\n",
       "      <td>16773882<\/td>\n",
       "      <td>2<\/td>\n",
       "      <td>1<\/td>\n",
       "      <td>1<\/td>\n",
       "      <td>990342.0<\/td>\n",
       "      <td>0<\/td>\n",
       "    <\/tr>\n",
       "  <\/tbody>\n",
       "<\/table>\n",
       "<p>999 rows × 12 columns<\/p>\n",
       "<\/div>"
      ]
     },
     "metadata":{
      
     },
     "output_type":"display_data"
    }
   ],
   "metadata":{
    "datalore":{
     "node_id":"dm0yo5NiKhKuEFuhMhW7Ig",
     "type":"CODE",
     "hide_input_from_viewers":true,
     "hide_output_from_viewers":true
    }
   }
  },
  {
   "cell_type":"code",
   "source":[
    "df.loc[df['ID'].duplicated(keep=False) == True]\n",
    "df.drop_duplicates(subset=['ID'], keep='first', inplace=True)\n",
    "df.loc[df['ID'].duplicated(keep=False) == True]"
   ],
   "execution_count":7,
   "outputs":[
    {
     "data":{
      "text\/html":[
       "<div>\n",
       "<style scoped>\n",
       "    .dataframe tbody tr th:only-of-type {\n",
       "        vertical-align: middle;\n",
       "    }\n",
       "\n",
       "    .dataframe tbody tr th {\n",
       "        vertical-align: top;\n",
       "    }\n",
       "\n",
       "    .dataframe thead th {\n",
       "        text-align: right;\n",
       "    }\n",
       "<\/style>\n",
       "<table border=\"1\" class=\"dataframe\">\n",
       "  <thead>\n",
       "    <tr style=\"text-align: right;\">\n",
       "      <th><\/th>\n",
       "      <th>ID<\/th>\n",
       "      <th>Score<\/th>\n",
       "      <th>Estado<\/th>\n",
       "      <th>Genero<\/th>\n",
       "      <th>Idade<\/th>\n",
       "      <th>Patrimonio<\/th>\n",
       "      <th>Saldo<\/th>\n",
       "      <th>Produtos<\/th>\n",
       "      <th>TemCartCredito<\/th>\n",
       "      <th>Ativo<\/th>\n",
       "      <th>Salario<\/th>\n",
       "      <th>Saiu<\/th>\n",
       "    <\/tr>\n",
       "  <\/thead>\n",
       "  <tbody>\n",
       "  <\/tbody>\n",
       "<\/table>\n",
       "<\/div>"
      ]
     },
     "metadata":{
      
     },
     "output_type":"display_data"
    }
   ],
   "metadata":{
    "datalore":{
     "node_id":"gSQtnPhJcMt5uG9JHa7fsL",
     "type":"CODE",
     "hide_input_from_viewers":true,
     "hide_output_from_viewers":true
    }
   }
  },
  {
   "cell_type":"code",
   "source":[
    "df.loc[(df['Idade'] > 100) | (df['Idade'] < 0), 'Idade'] = sts.median(df['Idade'])\n",
    "df.Idade"
   ],
   "execution_count":8,
   "outputs":[
    {
     "data":{
      "text\/html":[
       
      ]
     },
     "metadata":{
      
     },
     "output_type":"display_data"
    }
   ],
   "metadata":{
    "datalore":{
     "node_id":"OK2uRIlNvogXZR5GSxp93h",
     "type":"CODE",
     "hide_input_from_viewers":true,
     "hide_output_from_viewers":true
    }
   }
  },
  {
   "cell_type":"code",
   "source":[
    "df['Salario'].fillna(sts.median(df['Salario']), inplace=True)\n",
    "df.Salario"
   ],
   "execution_count":12,
   "outputs":[
    {
     "data":{
      "text\/html":[
       
      ]
     },
     "metadata":{
      
     },
     "output_type":"display_data"
    }
   ],
   "metadata":{
    "datalore":{
     "node_id":"yF3xXI0DVf7Xe2nr4IRlWo",
     "type":"CODE",
     "hide_input_from_viewers":true,
     "hide_output_from_viewers":true
    }
   }
  },
  {
   "cell_type":"code",
   "source":[
    "df.loc[df['Salario'] > (2 * sts.stdev((df['Salario']))), 'Salario'] = sts.median(df['Salario'])\n",
    "df.Salario"
   ],
   "execution_count":13,
   "outputs":[
    {
     "data":{
      "text\/html":[
       
      ]
     },
     "metadata":{
      
     },
     "output_type":"display_data"
    }
   ],
   "metadata":{
    "datalore":{
     "node_id":"1GFclO7uVv6JhWOx5yWfOy",
     "type":"CODE",
     "hide_input_from_viewers":true,
     "hide_output_from_viewers":true
    }
   }
  },
  {
   "cell_type":"code",
   "source":[
    "df.shape"
   ],
   "execution_count":14,
   "outputs":[
    {
     "data":{
      "text\/plain":[
       "(998, 12)"
      ]
     },
     "metadata":{
      
     },
     "output_type":"display_data"
    }
   ],
   "metadata":{
    "datalore":{
     "node_id":"4h4lSr8EFhc6RnOJhP6gtW",
     "type":"CODE",
     "hide_input_from_viewers":true,
     "hide_output_from_viewers":true
    }
   }
  },
  {
   "cell_type":"code",
   "source":[
    "df"
   ],
   "execution_count":15,
   "outputs":[
    {
     "data":{
      "text\/html":[
       "<div>\n",
       "<style scoped>\n",
       "    .dataframe tbody tr th:only-of-type {\n",
       "        vertical-align: middle;\n",
       "    }\n",
       "\n",
       "    .dataframe tbody tr th {\n",
       "        vertical-align: top;\n",
       "    }\n",
       "\n",
       "    .dataframe thead th {\n",
       "        text-align: right;\n",
       "    }\n",
       "<\/style>\n",
       "<table border=\"1\" class=\"dataframe\">\n",
       "  <thead>\n",
       "    <tr style=\"text-align: right;\">\n",
       "      <th><\/th>\n",
       "      <th>ID<\/th>\n",
       "      <th>Score<\/th>\n",
       "      <th>Estado<\/th>\n",
       "      <th>Genero<\/th>\n",
       "      <th>Idade<\/th>\n",
       "      <th>Patrimonio<\/th>\n",
       "      <th>Saldo<\/th>\n",
       "      <th>Produtos<\/th>\n",
       "      <th>TemCartCredito<\/th>\n",
       "      <th>Ativo<\/th>\n",
       "      <th>Salario<\/th>\n",
       "      <th>Saiu<\/th>\n",
       "    <\/tr>\n",
       "  <\/thead>\n",
       "  <tbody>\n",
       "    <tr>\n",
       "      <th>0<\/th>\n",
       "      <td>1<\/td>\n",
       "      <td>619<\/td>\n",
       "      <td>RS<\/td>\n",
       "      <td>Feminino<\/td>\n",
       "      <td>42<\/td>\n",
       "      <td>2<\/td>\n",
       "      <td>0<\/td>\n",
       "      <td>1<\/td>\n",
       "      <td>1<\/td>\n",
       "      <td>1<\/td>\n",
       "      <td>10134888.0<\/td>\n",
       "      <td>1<\/td>\n",
       "    <\/tr>\n",
       "    <tr>\n",
       "      <th>1<\/th>\n",
       "      <td>2<\/td>\n",
       "      <td>608<\/td>\n",
       "      <td>SC<\/td>\n",
       "      <td>Feminino<\/td>\n",
       "      <td>41<\/td>\n",
       "      <td>1<\/td>\n",
       "      <td>8380786<\/td>\n",
       "      <td>1<\/td>\n",
       "      <td>0<\/td>\n",
       "      <td>1<\/td>\n",
       "      <td>11254258.0<\/td>\n",
       "      <td>0<\/td>\n",
       "    <\/tr>\n",
       "    <tr>\n",
       "      <th>2<\/th>\n",
       "      <td>3<\/td>\n",
       "      <td>502<\/td>\n",
       "      <td>RS<\/td>\n",
       "      <td>Feminino<\/td>\n",
       "      <td>42<\/td>\n",
       "      <td>8<\/td>\n",
       "      <td>1596608<\/td>\n",
       "      <td>3<\/td>\n",
       "      <td>1<\/td>\n",
       "      <td>0<\/td>\n",
       "      <td>11393157.0<\/td>\n",
       "      <td>1<\/td>\n",
       "    <\/tr>\n",
       "    <tr>\n",
       "      <th>3<\/th>\n",
       "      <td>4<\/td>\n",
       "      <td>699<\/td>\n",
       "      <td>RS<\/td>\n",
       "      <td>Feminino<\/td>\n",
       "      <td>39<\/td>\n",
       "      <td>1<\/td>\n",
       "      <td>0<\/td>\n",
       "      <td>2<\/td>\n",
       "      <td>0<\/td>\n",
       "      <td>0<\/td>\n",
       "      <td>9382663.0<\/td>\n",
       "      <td>0<\/td>\n",
       "    <\/tr>\n",
       "    <tr>\n",
       "      <th>4<\/th>\n",
       "      <td>5<\/td>\n",
       "      <td>850<\/td>\n",
       "      <td>SC<\/td>\n",
       "      <td>Feminino<\/td>\n",
       "      <td>43<\/td>\n",
       "      <td>2<\/td>\n",
       "      <td>12551082<\/td>\n",
       "      <td>1<\/td>\n",
       "      <td>1<\/td>\n",
       "      <td>1<\/td>\n",
       "      <td>790841.0<\/td>\n",
       "      <td>0<\/td>\n",
       "    <\/tr>\n",
       "    <tr>\n",
       "      <th>...<\/th>\n",
       "      <td>...<\/td>\n",
       "      <td>...<\/td>\n",
       "      <td>...<\/td>\n",
       "      <td>...<\/td>\n",
       "      <td>...<\/td>\n",
       "      <td>...<\/td>\n",
       "      <td>...<\/td>\n",
       "      <td>...<\/td>\n",
       "      <td>...<\/td>\n",
       "      <td>...<\/td>\n",
       "      <td>...<\/td>\n",
       "      <td>...<\/td>\n",
       "    <\/tr>\n",
       "    <tr>\n",
       "      <th>994<\/th>\n",
       "      <td>996<\/td>\n",
       "      <td>838<\/td>\n",
       "      <td>SC<\/td>\n",
       "      <td>Masculino<\/td>\n",
       "      <td>43<\/td>\n",
       "      <td>9<\/td>\n",
       "      <td>12310588<\/td>\n",
       "      <td>2<\/td>\n",
       "      <td>1<\/td>\n",
       "      <td>0<\/td>\n",
       "      <td>14576583.0<\/td>\n",
       "      <td>0<\/td>\n",
       "    <\/tr>\n",
       "    <tr>\n",
       "      <th>995<\/th>\n",
       "      <td>997<\/td>\n",
       "      <td>610<\/td>\n",
       "      <td>SC<\/td>\n",
       "      <td>Masculino<\/td>\n",
       "      <td>29<\/td>\n",
       "      <td>9<\/td>\n",
       "      <td>0<\/td>\n",
       "      <td>3<\/td>\n",
       "      <td>0<\/td>\n",
       "      <td>1<\/td>\n",
       "      <td>8391224.0<\/td>\n",
       "      <td>0<\/td>\n",
       "    <\/tr>\n",
       "    <tr>\n",
       "      <th>996<\/th>\n",
       "      <td>998<\/td>\n",
       "      <td>811<\/td>\n",
       "      <td>SC<\/td>\n",
       "      <td>Masculino<\/td>\n",
       "      <td>44<\/td>\n",
       "      <td>3<\/td>\n",
       "      <td>0<\/td>\n",
       "      <td>2<\/td>\n",
       "      <td>0<\/td>\n",
       "      <td>1<\/td>\n",
       "      <td>7843973.0<\/td>\n",
       "      <td>0<\/td>\n",
       "    <\/tr>\n",
       "    <tr>\n",
       "      <th>997<\/th>\n",
       "      <td>999<\/td>\n",
       "      <td>587<\/td>\n",
       "      <td>SC<\/td>\n",
       "      <td>Masculino<\/td>\n",
       "      <td>62<\/td>\n",
       "      <td>7<\/td>\n",
       "      <td>12128627<\/td>\n",
       "      <td>1<\/td>\n",
       "      <td>0<\/td>\n",
       "      <td>1<\/td>\n",
       "      <td>677692.0<\/td>\n",
       "      <td>0<\/td>\n",
       "    <\/tr>\n",
       "    <tr>\n",
       "      <th>998<\/th>\n",
       "      <td>1000<\/td>\n",
       "      <td>811<\/td>\n",
       "      <td>PR<\/td>\n",
       "      <td>Feminino<\/td>\n",
       "      <td>28<\/td>\n",
       "      <td>4<\/td>\n",
       "      <td>16773882<\/td>\n",
       "      <td>2<\/td>\n",
       "      <td>1<\/td>\n",
       "      <td>1<\/td>\n",
       "      <td>990342.0<\/td>\n",
       "      <td>0<\/td>\n",
       "    <\/tr>\n",
       "  <\/tbody>\n",
       "<\/table>\n",
       "<p>998 rows × 12 columns<\/p>\n",
       "<\/div>"
      ]
     },
     "metadata":{
      
     },
     "output_type":"display_data"
    }
   ],
   "metadata":{
    "datalore":{
     "node_id":"fFV8aUwC91AwvTqjJaENou",
     "type":"CODE",
     "hide_input_from_viewers":true,
     "hide_output_from_viewers":true
    }
   }
  },
  {
   "cell_type":"code",
   "source":[
    
   ],
   "execution_count":null,
   "outputs":[
    
   ],
   "metadata":{
    "datalore":{
     "node_id":"nIFL33Xr1FIw21qDJ3TDzr",
     "type":"CODE",
     "hide_input_from_viewers":true,
     "hide_output_from_viewers":true
    }
   }
  },
  {
   "cell_type":"markdown",
   "source":[
    "# tempo"
   ],
   "attachments":{
    
   },
   "metadata":{
    "datalore":{
     "node_id":"tempo",
     "type":"MD",
     "hide_input_from_viewers":false,
     "hide_output_from_viewers":false,
     "sheet_delimiter":true
    }
   }
  },
  {
   "cell_type":"code",
   "source":[
    "data = pd.read_csv('tempo.csv', engine='c', sep=';')\n",
    "df = data.copy()\n",
    "df.shape"
   ],
   "execution_count":16,
   "outputs":[
    {
     "data":{
      "text\/plain":[
       "(14, 5)"
      ]
     },
     "metadata":{
      
     },
     "output_type":"display_data"
    }
   ],
   "metadata":{
    "datalore":{
     "node_id":"p8I8l4g9JGXqGciyZEEQ09",
     "type":"CODE",
     "hide_input_from_viewers":true,
     "hide_output_from_viewers":true
    }
   }
  },
  {
   "cell_type":"code",
   "source":[
    "df"
   ],
   "execution_count":17,
   "outputs":[
    {
     "data":{
      "text\/html":[
       "<div>\n",
       "<style scoped>\n",
       "    .dataframe tbody tr th:only-of-type {\n",
       "        vertical-align: middle;\n",
       "    }\n",
       "\n",
       "    .dataframe tbody tr th {\n",
       "        vertical-align: top;\n",
       "    }\n",
       "\n",
       "    .dataframe thead th {\n",
       "        text-align: right;\n",
       "    }\n",
       "<\/style>\n",
       "<table border=\"1\" class=\"dataframe\">\n",
       "  <thead>\n",
       "    <tr style=\"text-align: right;\">\n",
       "      <th><\/th>\n",
       "      <th>Aparencia<\/th>\n",
       "      <th>Temperatura<\/th>\n",
       "      <th>Umidade<\/th>\n",
       "      <th>Vento<\/th>\n",
       "      <th>Jogar<\/th>\n",
       "    <\/tr>\n",
       "  <\/thead>\n",
       "  <tbody>\n",
       "    <tr>\n",
       "      <th>0<\/th>\n",
       "      <td>sol<\/td>\n",
       "      <td>85<\/td>\n",
       "      <td>85.0<\/td>\n",
       "      <td>FALSO<\/td>\n",
       "      <td>nao<\/td>\n",
       "    <\/tr>\n",
       "    <tr>\n",
       "      <th>1<\/th>\n",
       "      <td>sol<\/td>\n",
       "      <td>80<\/td>\n",
       "      <td>90.0<\/td>\n",
       "      <td>VERDADEIRO<\/td>\n",
       "      <td>nao<\/td>\n",
       "    <\/tr>\n",
       "    <tr>\n",
       "      <th>2<\/th>\n",
       "      <td>nublado<\/td>\n",
       "      <td>83<\/td>\n",
       "      <td>86.0<\/td>\n",
       "      <td>FALSO<\/td>\n",
       "      <td>sim<\/td>\n",
       "    <\/tr>\n",
       "    <tr>\n",
       "      <th>3<\/th>\n",
       "      <td>chuva<\/td>\n",
       "      <td>70<\/td>\n",
       "      <td>NaN<\/td>\n",
       "      <td>FALSO<\/td>\n",
       "      <td>sim<\/td>\n",
       "    <\/tr>\n",
       "    <tr>\n",
       "      <th>4<\/th>\n",
       "      <td>chuva<\/td>\n",
       "      <td>68<\/td>\n",
       "      <td>80.0<\/td>\n",
       "      <td>FALSO<\/td>\n",
       "      <td>sim<\/td>\n",
       "    <\/tr>\n",
       "    <tr>\n",
       "      <th>5<\/th>\n",
       "      <td>chuva<\/td>\n",
       "      <td>65<\/td>\n",
       "      <td>70.0<\/td>\n",
       "      <td>VERDADEIRO<\/td>\n",
       "      <td>nao<\/td>\n",
       "    <\/tr>\n",
       "    <tr>\n",
       "      <th>6<\/th>\n",
       "      <td>menos<\/td>\n",
       "      <td>64<\/td>\n",
       "      <td>65.0<\/td>\n",
       "      <td>VERDADEIRO<\/td>\n",
       "      <td>sim<\/td>\n",
       "    <\/tr>\n",
       "    <tr>\n",
       "      <th>7<\/th>\n",
       "      <td>sol<\/td>\n",
       "      <td>1220<\/td>\n",
       "      <td>95.0<\/td>\n",
       "      <td>FALSO<\/td>\n",
       "      <td>nao<\/td>\n",
       "    <\/tr>\n",
       "    <tr>\n",
       "      <th>8<\/th>\n",
       "      <td>sol<\/td>\n",
       "      <td>69<\/td>\n",
       "      <td>70.0<\/td>\n",
       "      <td>FALSO<\/td>\n",
       "      <td>sim<\/td>\n",
       "    <\/tr>\n",
       "    <tr>\n",
       "      <th>9<\/th>\n",
       "      <td>chuva<\/td>\n",
       "      <td>75<\/td>\n",
       "      <td>200.0<\/td>\n",
       "      <td>NaN<\/td>\n",
       "      <td>sim<\/td>\n",
       "    <\/tr>\n",
       "    <tr>\n",
       "      <th>10<\/th>\n",
       "      <td>sol<\/td>\n",
       "      <td>75<\/td>\n",
       "      <td>70.0<\/td>\n",
       "      <td>VERDADEIRO<\/td>\n",
       "      <td>sim<\/td>\n",
       "    <\/tr>\n",
       "    <tr>\n",
       "      <th>11<\/th>\n",
       "      <td>nublado<\/td>\n",
       "      <td>72<\/td>\n",
       "      <td>90.0<\/td>\n",
       "      <td>VERDADEIRO<\/td>\n",
       "      <td>sim<\/td>\n",
       "    <\/tr>\n",
       "    <tr>\n",
       "      <th>12<\/th>\n",
       "      <td>nublado<\/td>\n",
       "      <td>81<\/td>\n",
       "      <td>75.0<\/td>\n",
       "      <td>FALSO<\/td>\n",
       "      <td>sim<\/td>\n",
       "    <\/tr>\n",
       "    <tr>\n",
       "      <th>13<\/th>\n",
       "      <td>chuva<\/td>\n",
       "      <td>71<\/td>\n",
       "      <td>91.0<\/td>\n",
       "      <td>VERDADEIRO<\/td>\n",
       "      <td>nao<\/td>\n",
       "    <\/tr>\n",
       "  <\/tbody>\n",
       "<\/table>\n",
       "<\/div>"
      ]
     },
     "metadata":{
      
     },
     "output_type":"display_data"
    }
   ],
   "metadata":{
    "datalore":{
     "node_id":"F2lGzvtfDA8tpUzKB4TN9F",
     "type":"CODE",
     "hide_input_from_viewers":true,
     "hide_output_from_viewers":true
    }
   }
  },
  {
   "cell_type":"code",
   "source":[
    "df.loc[(df['Aparencia'] == 'menos'), 'Aparencia'] = sts.mode(df['Aparencia'])\n",
    "df.Aparencia"
   ],
   "execution_count":18,
   "outputs":[
    {
     "data":{
      "text\/html":[
       
      ]
     },
     "metadata":{
      
     },
     "output_type":"display_data"
    }
   ],
   "metadata":{
    "datalore":{
     "node_id":"MTKagrTf1bE3PQEJ8alBHn",
     "type":"CODE",
     "hide_input_from_viewers":true,
     "hide_output_from_viewers":true
    }
   }
  },
  {
   "cell_type":"code",
   "source":[
    "df['Vento'].fillna(sts.mode(df['Vento']), inplace=True)\n",
    "df.Vento"
   ],
   "execution_count":21,
   "outputs":[
    {
     "data":{
      "text\/html":[
       
      ]
     },
     "metadata":{
      
     },
     "output_type":"display_data"
    }
   ],
   "metadata":{
    "datalore":{
     "node_id":"eEwq4KPpz7NdSqnnhxioVj",
     "type":"CODE",
     "hide_input_from_viewers":true,
     "hide_output_from_viewers":true
    }
   }
  },
  {
   "cell_type":"code",
   "source":[
    "df.loc[(df['Temperatura'] > 130) | (df['Temperatura'] < -130), 'Temperatura'] = sts.median(df['Temperatura'])\n",
    "df.Temperatura"
   ],
   "execution_count":22,
   "outputs":[
    {
     "data":{
      "text\/html":[
       
      ]
     },
     "metadata":{
      
     },
     "output_type":"display_data"
    }
   ],
   "metadata":{
    "datalore":{
     "node_id":"AeY3HcofsvgEavt3pP4wti",
     "type":"CODE",
     "hide_input_from_viewers":true,
     "hide_output_from_viewers":true
    }
   }
  },
  {
   "cell_type":"code",
   "source":[
    "df['Umidade'].fillna(sts.median(df['Umidade']), inplace=True)\n",
    "df.loc[df['Umidade'] > 100, 'Umidade'] = sts.median(df['Umidade'])\n",
    "df.Umidade"
   ],
   "execution_count":23,
   "outputs":[
    {
     "data":{
      "text\/html":[
       
      ]
     },
     "metadata":{
      
     },
     "output_type":"display_data"
    }
   ],
   "metadata":{
    "datalore":{
     "node_id":"Avn11DI0WfKpGMVoq27WYA",
     "type":"CODE",
     "hide_input_from_viewers":true,
     "hide_output_from_viewers":true
    }
   }
  },
  {
   "cell_type":"code",
   "source":[
    "df.shape"
   ],
   "execution_count":24,
   "outputs":[
    {
     "data":{
      "text\/plain":[
       "(14, 5)"
      ]
     },
     "metadata":{
      
     },
     "output_type":"display_data"
    }
   ],
   "metadata":{
    "datalore":{
     "node_id":"vGbXxexKIdJuCHTx0oXghs",
     "type":"CODE",
     "hide_input_from_viewers":true,
     "hide_output_from_viewers":true
    }
   }
  },
  {
   "cell_type":"code",
   "source":[
    "df"
   ],
   "execution_count":25,
   "outputs":[
    {
     "data":{
      "text\/html":[
       "<div>\n",
       "<style scoped>\n",
       "    .dataframe tbody tr th:only-of-type {\n",
       "        vertical-align: middle;\n",
       "    }\n",
       "\n",
       "    .dataframe tbody tr th {\n",
       "        vertical-align: top;\n",
       "    }\n",
       "\n",
       "    .dataframe thead th {\n",
       "        text-align: right;\n",
       "    }\n",
       "<\/style>\n",
       "<table border=\"1\" class=\"dataframe\">\n",
       "  <thead>\n",
       "    <tr style=\"text-align: right;\">\n",
       "      <th><\/th>\n",
       "      <th>Aparencia<\/th>\n",
       "      <th>Temperatura<\/th>\n",
       "      <th>Umidade<\/th>\n",
       "      <th>Vento<\/th>\n",
       "      <th>Jogar<\/th>\n",
       "    <\/tr>\n",
       "  <\/thead>\n",
       "  <tbody>\n",
       "    <tr>\n",
       "      <th>0<\/th>\n",
       "      <td>sol<\/td>\n",
       "      <td>85.0<\/td>\n",
       "      <td>85.00<\/td>\n",
       "      <td>FALSO<\/td>\n",
       "      <td>nao<\/td>\n",
       "    <\/tr>\n",
       "    <tr>\n",
       "      <th>1<\/th>\n",
       "      <td>sol<\/td>\n",
       "      <td>80.0<\/td>\n",
       "      <td>90.00<\/td>\n",
       "      <td>VERDADEIRO<\/td>\n",
       "      <td>nao<\/td>\n",
       "    <\/tr>\n",
       "    <tr>\n",
       "      <th>2<\/th>\n",
       "      <td>nublado<\/td>\n",
       "      <td>83.0<\/td>\n",
       "      <td>86.00<\/td>\n",
       "      <td>FALSO<\/td>\n",
       "      <td>sim<\/td>\n",
       "    <\/tr>\n",
       "    <tr>\n",
       "      <th>3<\/th>\n",
       "      <td>chuva<\/td>\n",
       "      <td>70.0<\/td>\n",
       "      <td>85.50<\/td>\n",
       "      <td>FALSO<\/td>\n",
       "      <td>sim<\/td>\n",
       "    <\/tr>\n",
       "    <tr>\n",
       "      <th>4<\/th>\n",
       "      <td>chuva<\/td>\n",
       "      <td>68.0<\/td>\n",
       "      <td>80.00<\/td>\n",
       "      <td>FALSO<\/td>\n",
       "      <td>sim<\/td>\n",
       "    <\/tr>\n",
       "    <tr>\n",
       "      <th>5<\/th>\n",
       "      <td>chuva<\/td>\n",
       "      <td>65.0<\/td>\n",
       "      <td>70.00<\/td>\n",
       "      <td>VERDADEIRO<\/td>\n",
       "      <td>nao<\/td>\n",
       "    <\/tr>\n",
       "    <tr>\n",
       "      <th>6<\/th>\n",
       "      <td>sol<\/td>\n",
       "      <td>64.0<\/td>\n",
       "      <td>65.00<\/td>\n",
       "      <td>VERDADEIRO<\/td>\n",
       "      <td>sim<\/td>\n",
       "    <\/tr>\n",
       "    <tr>\n",
       "      <th>7<\/th>\n",
       "      <td>sol<\/td>\n",
       "      <td>73.5<\/td>\n",
       "      <td>95.00<\/td>\n",
       "      <td>FALSO<\/td>\n",
       "      <td>nao<\/td>\n",
       "    <\/tr>\n",
       "    <tr>\n",
       "      <th>8<\/th>\n",
       "      <td>sol<\/td>\n",
       "      <td>69.0<\/td>\n",
       "      <td>70.00<\/td>\n",
       "      <td>FALSO<\/td>\n",
       "      <td>sim<\/td>\n",
       "    <\/tr>\n",
       "    <tr>\n",
       "      <th>9<\/th>\n",
       "      <td>chuva<\/td>\n",
       "      <td>75.0<\/td>\n",
       "      <td>85.25<\/td>\n",
       "      <td>FALSO<\/td>\n",
       "      <td>sim<\/td>\n",
       "    <\/tr>\n",
       "    <tr>\n",
       "      <th>10<\/th>\n",
       "      <td>sol<\/td>\n",
       "      <td>75.0<\/td>\n",
       "      <td>70.00<\/td>\n",
       "      <td>VERDADEIRO<\/td>\n",
       "      <td>sim<\/td>\n",
       "    <\/tr>\n",
       "    <tr>\n",
       "      <th>11<\/th>\n",
       "      <td>nublado<\/td>\n",
       "      <td>72.0<\/td>\n",
       "      <td>90.00<\/td>\n",
       "      <td>VERDADEIRO<\/td>\n",
       "      <td>sim<\/td>\n",
       "    <\/tr>\n",
       "    <tr>\n",
       "      <th>12<\/th>\n",
       "      <td>nublado<\/td>\n",
       "      <td>81.0<\/td>\n",
       "      <td>75.00<\/td>\n",
       "      <td>FALSO<\/td>\n",
       "      <td>sim<\/td>\n",
       "    <\/tr>\n",
       "    <tr>\n",
       "      <th>13<\/th>\n",
       "      <td>chuva<\/td>\n",
       "      <td>71.0<\/td>\n",
       "      <td>91.00<\/td>\n",
       "      <td>VERDADEIRO<\/td>\n",
       "      <td>nao<\/td>\n",
       "    <\/tr>\n",
       "  <\/tbody>\n",
       "<\/table>\n",
       "<\/div>"
      ]
     },
     "metadata":{
      
     },
     "output_type":"display_data"
    }
   ],
   "metadata":{
    "datalore":{
     "node_id":"dCgbL9NJRPXp5xTqzYVFOu",
     "type":"CODE",
     "hide_input_from_viewers":true,
     "hide_output_from_viewers":true
    }
   }
  },
  {
   "cell_type":"code",
   "source":[
    
   ],
   "execution_count":null,
   "outputs":[
    
   ],
   "metadata":{
    "datalore":{
     "node_id":"MWfGBi29oKPhnbApuqxaUF",
     "type":"CODE",
     "hide_input_from_viewers":true,
     "hide_output_from_viewers":true
    }
   }
  }
 ],
 "metadata":{
  "kernelspec":{
   "display_name":"Python",
   "language":"python",
   "name":"python"
  },
  "datalore":{
   "computation_mode":"JUPYTER",
   "package_manager":"pip",
   "base_environment":"default",
   "packages":[
    
   ],
   "report_row_ids":[
    
   ],
   "version":2
  }
 },
 "nbformat":4,
 "nbformat_minor":4
}